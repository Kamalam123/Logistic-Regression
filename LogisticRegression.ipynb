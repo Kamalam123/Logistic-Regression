{
 "cells": [
  {
   "cell_type": "markdown",
   "metadata": {
    "colab_type": "text",
    "id": "AM7jsfwALPlp"
   },
   "source": [
    "# Amazon Fine Food Reviews Analysis\n",
    "\n",
    "\n",
    "Data Source: https://www.kaggle.com/snap/amazon-fine-food-reviews <br>\n",
    "\n",
    "EDA: https://nycdatascience.com/blog/student-works/amazon-fine-foods-visualization/\n",
    "\n",
    "\n",
    "The Amazon Fine Food Reviews dataset consists of reviews of fine foods from Amazon.<br>\n",
    "\n",
    "Number of reviews: 568,454<br>\n",
    "Number of users: 256,059<br>\n",
    "Number of products: 74,258<br>\n",
    "Timespan: Oct 1999 - Oct 2012<br>\n",
    "Number of Attributes/Columns in data: 10 \n",
    "\n",
    "Attribute Information:\n",
    "\n",
    "1. Id\n",
    "2. ProductId - unique identifier for the product\n",
    "3. UserId - unqiue identifier for the user\n",
    "4. ProfileName\n",
    "5. HelpfulnessNumerator - number of users who found the review helpful\n",
    "6. HelpfulnessDenominator - number of users who indicated whether they found the review helpful or not\n",
    "7. Score - rating between 1 and 5\n",
    "8. Time - timestamp for the review\n",
    "9. Summary - brief summary of the review\n",
    "10. Text - text of the review\n",
    "\n",
    "\n",
    "#### Objective:\n",
    "Given a review, determine whether the review is positive (rating of 4 or 5) or negative (rating of 1 or 2).\n",
    "\n",
    "<br>\n",
    "[Q] How to determine if a review is positive or negative?<br>\n",
    "<br> \n",
    "[Ans] We could use Score/Rating. A rating of 4 or 5 can be cosnidered as a positive review. A rating of 1 or 2 can be considered as negative one. A review of rating 3 is considered nuetral and such reviews are ignored from our analysis. This is an approximate and proxy way of determining the polarity (positivity/negativity) of a review.\n",
    "\n",
    "\n"
   ]
  },
  {
   "cell_type": "markdown",
   "metadata": {
    "colab_type": "text",
    "id": "CaQ7XJ4OLPls"
   },
   "source": [
    "# [1]. Reading Data"
   ]
  },
  {
   "cell_type": "markdown",
   "metadata": {
    "colab_type": "text",
    "id": "5VnEBjKRLPlu"
   },
   "source": [
    "## [1.1] Loading the data\n",
    "\n",
    "The dataset is available in two forms\n",
    "1. .csv file\n",
    "2. SQLite Database\n",
    "\n",
    "In order to load the data, We have used the SQLITE dataset as it is easier to query the data and visualise the data efficiently.\n",
    "<br> \n",
    "\n",
    "Here as we only want to get the global sentiment of the recommendations (positive or negative), we will purposefully ignore all Scores equal to 3. If the score is above 3, then the recommendation wil be set to \"positive\". Otherwise, it will be set to \"negative\"."
   ]
  },
  {
   "cell_type": "code",
   "execution_count": 1,
   "metadata": {
    "colab": {},
    "colab_type": "code",
    "id": "x6YclOzXLPlv"
   },
   "outputs": [
    {
     "name": "stderr",
     "output_type": "stream",
     "text": [
      "D:\\AAnaconda\\lib\\site-packages\\gensim\\utils.py:1212: UserWarning: detected Windows; aliasing chunkize to chunkize_serial\n",
      "  warnings.warn(\"detected Windows; aliasing chunkize to chunkize_serial\")\n"
     ]
    }
   ],
   "source": [
    "%matplotlib inline\n",
    "import warnings\n",
    "warnings.filterwarnings(\"ignore\")\n",
    "\n",
    "\n",
    "import sqlite3\n",
    "import pandas as pd\n",
    "import numpy as np\n",
    "import nltk\n",
    "import string\n",
    "import matplotlib.pyplot as plt\n",
    "import seaborn as sns\n",
    "from sklearn.feature_extraction.text import TfidfTransformer\n",
    "from sklearn.feature_extraction.text import TfidfVectorizer\n",
    "from sklearn.preprocessing import StandardScaler\n",
    "from sklearn.feature_extraction.text import CountVectorizer\n",
    "from sklearn.metrics import confusion_matrix\n",
    "from sklearn import metrics\n",
    "from sklearn.metrics import roc_curve, auc\n",
    "from nltk.stem.porter import PorterStemmer\n",
    "from scipy.sparse import csr_matrix\n",
    "import re\n",
    "# Tutorial about Python regular expressions: https://pymotw.com/2/re/\n",
    "import string\n",
    "from nltk.corpus import stopwords\n",
    "from nltk.stem import PorterStemmer\n",
    "from nltk.stem.wordnet import WordNetLemmatizer\n",
    "\n",
    "from gensim.models import Word2Vec\n",
    "from gensim.models import KeyedVectors\n",
    "import pickle\n",
    "\n",
    "from tqdm import tqdm\n",
    "import os"
   ]
  },
  {
   "cell_type": "code",
   "execution_count": 2,
   "metadata": {
    "colab": {},
    "colab_type": "code",
    "id": "NZ4OSpSiLPl0",
    "outputId": "241c4c64-6186-4351-e38f-fcd06c6896dd"
   },
   "outputs": [
    {
     "name": "stdout",
     "output_type": "stream",
     "text": [
      "Number of data points in our data (100000, 10)\n"
     ]
    },
    {
     "data": {
      "text/html": [
       "<div>\n",
       "<style scoped>\n",
       "    .dataframe tbody tr th:only-of-type {\n",
       "        vertical-align: middle;\n",
       "    }\n",
       "\n",
       "    .dataframe tbody tr th {\n",
       "        vertical-align: top;\n",
       "    }\n",
       "\n",
       "    .dataframe thead th {\n",
       "        text-align: right;\n",
       "    }\n",
       "</style>\n",
       "<table border=\"1\" class=\"dataframe\">\n",
       "  <thead>\n",
       "    <tr style=\"text-align: right;\">\n",
       "      <th></th>\n",
       "      <th>Id</th>\n",
       "      <th>ProductId</th>\n",
       "      <th>UserId</th>\n",
       "      <th>ProfileName</th>\n",
       "      <th>HelpfulnessNumerator</th>\n",
       "      <th>HelpfulnessDenominator</th>\n",
       "      <th>Score</th>\n",
       "      <th>Time</th>\n",
       "      <th>Summary</th>\n",
       "      <th>Text</th>\n",
       "    </tr>\n",
       "  </thead>\n",
       "  <tbody>\n",
       "    <tr>\n",
       "      <td>0</td>\n",
       "      <td>1</td>\n",
       "      <td>B001E4KFG0</td>\n",
       "      <td>A3SGXH7AUHU8GW</td>\n",
       "      <td>delmartian</td>\n",
       "      <td>1</td>\n",
       "      <td>1</td>\n",
       "      <td>1</td>\n",
       "      <td>1303862400</td>\n",
       "      <td>Good Quality Dog Food</td>\n",
       "      <td>I have bought several of the Vitality canned d...</td>\n",
       "    </tr>\n",
       "    <tr>\n",
       "      <td>1</td>\n",
       "      <td>2</td>\n",
       "      <td>B00813GRG4</td>\n",
       "      <td>A1D87F6ZCVE5NK</td>\n",
       "      <td>dll pa</td>\n",
       "      <td>0</td>\n",
       "      <td>0</td>\n",
       "      <td>0</td>\n",
       "      <td>1346976000</td>\n",
       "      <td>Not as Advertised</td>\n",
       "      <td>Product arrived labeled as Jumbo Salted Peanut...</td>\n",
       "    </tr>\n",
       "    <tr>\n",
       "      <td>2</td>\n",
       "      <td>3</td>\n",
       "      <td>B000LQOCH0</td>\n",
       "      <td>ABXLMWJIXXAIN</td>\n",
       "      <td>Natalia Corres \"Natalia Corres\"</td>\n",
       "      <td>1</td>\n",
       "      <td>1</td>\n",
       "      <td>1</td>\n",
       "      <td>1219017600</td>\n",
       "      <td>\"Delight\" says it all</td>\n",
       "      <td>This is a confection that has been around a fe...</td>\n",
       "    </tr>\n",
       "  </tbody>\n",
       "</table>\n",
       "</div>"
      ],
      "text/plain": [
       "   Id   ProductId          UserId                      ProfileName  \\\n",
       "0   1  B001E4KFG0  A3SGXH7AUHU8GW                       delmartian   \n",
       "1   2  B00813GRG4  A1D87F6ZCVE5NK                           dll pa   \n",
       "2   3  B000LQOCH0   ABXLMWJIXXAIN  Natalia Corres \"Natalia Corres\"   \n",
       "\n",
       "   HelpfulnessNumerator  HelpfulnessDenominator  Score        Time  \\\n",
       "0                     1                       1      1  1303862400   \n",
       "1                     0                       0      0  1346976000   \n",
       "2                     1                       1      1  1219017600   \n",
       "\n",
       "                 Summary                                               Text  \n",
       "0  Good Quality Dog Food  I have bought several of the Vitality canned d...  \n",
       "1      Not as Advertised  Product arrived labeled as Jumbo Salted Peanut...  \n",
       "2  \"Delight\" says it all  This is a confection that has been around a fe...  "
      ]
     },
     "execution_count": 2,
     "metadata": {},
     "output_type": "execute_result"
    }
   ],
   "source": [
    "# using SQLite Table to read data.\n",
    "con = sqlite3.connect('database.sqlite') \n",
    "\n",
    "# filtering only positive and negative reviews i.e. \n",
    "# not taking into consideration those reviews with Score=3\n",
    "# SELECT * FROM Reviews WHERE Score != 3 LIMIT 500000, will give top 500000 data points\n",
    "# you can change the number to any other number based on your computing power\n",
    "\n",
    "# filtered_data = pd.read_sql_query(\"\"\" SELECT * FROM Reviews WHERE Score != 3 LIMIT 500000\"\"\", con) \n",
    "# for tsne assignment you can take 5k data points\n",
    "\n",
    "filtered_data = pd.read_sql_query(\"\"\" SELECT * FROM Reviews WHERE Score != 3 LIMIT 100000\"\"\", con) \n",
    "\n",
    "# Give reviews with Score>3 a positive rating(1), and reviews with a score<3 a negative rating(0).\n",
    "def partition(x):\n",
    "    if x < 3:\n",
    "        return 0\n",
    "    return 1\n",
    "\n",
    "#changing reviews with score less than 3 to be positive and vice-versa\n",
    "actualScore = filtered_data['Score']\n",
    "positiveNegative = actualScore.map(partition) \n",
    "filtered_data['Score'] = positiveNegative\n",
    "print(\"Number of data points in our data\", filtered_data.shape)\n",
    "filtered_data.head(3)"
   ]
  },
  {
   "cell_type": "code",
   "execution_count": 3,
   "metadata": {
    "colab": {},
    "colab_type": "code",
    "id": "r44Y4VDjLPl7"
   },
   "outputs": [],
   "source": [
    "display = pd.read_sql_query(\"\"\"\n",
    "SELECT UserId, ProductId, ProfileName, Time, Score, Text, COUNT(*)\n",
    "FROM Reviews\n",
    "GROUP BY UserId\n",
    "HAVING COUNT(*)>1\n",
    "\"\"\", con)"
   ]
  },
  {
   "cell_type": "code",
   "execution_count": 4,
   "metadata": {
    "colab": {},
    "colab_type": "code",
    "id": "tTwINQv1LPl_",
    "outputId": "0385b9ca-0a35-4c2b-b656-8e8494414e6f",
    "scrolled": true
   },
   "outputs": [
    {
     "name": "stdout",
     "output_type": "stream",
     "text": [
      "(80668, 7)\n"
     ]
    },
    {
     "data": {
      "text/html": [
       "<div>\n",
       "<style scoped>\n",
       "    .dataframe tbody tr th:only-of-type {\n",
       "        vertical-align: middle;\n",
       "    }\n",
       "\n",
       "    .dataframe tbody tr th {\n",
       "        vertical-align: top;\n",
       "    }\n",
       "\n",
       "    .dataframe thead th {\n",
       "        text-align: right;\n",
       "    }\n",
       "</style>\n",
       "<table border=\"1\" class=\"dataframe\">\n",
       "  <thead>\n",
       "    <tr style=\"text-align: right;\">\n",
       "      <th></th>\n",
       "      <th>UserId</th>\n",
       "      <th>ProductId</th>\n",
       "      <th>ProfileName</th>\n",
       "      <th>Time</th>\n",
       "      <th>Score</th>\n",
       "      <th>Text</th>\n",
       "      <th>COUNT(*)</th>\n",
       "    </tr>\n",
       "  </thead>\n",
       "  <tbody>\n",
       "    <tr>\n",
       "      <td>0</td>\n",
       "      <td>#oc-R115TNMSPFT9I7</td>\n",
       "      <td>B005ZBZLT4</td>\n",
       "      <td>Breyton</td>\n",
       "      <td>1331510400</td>\n",
       "      <td>2</td>\n",
       "      <td>Overall its just OK when considering the price...</td>\n",
       "      <td>2</td>\n",
       "    </tr>\n",
       "    <tr>\n",
       "      <td>1</td>\n",
       "      <td>#oc-R11D9D7SHXIJB9</td>\n",
       "      <td>B005HG9ESG</td>\n",
       "      <td>Louis E. Emory \"hoppy\"</td>\n",
       "      <td>1342396800</td>\n",
       "      <td>5</td>\n",
       "      <td>My wife has recurring extreme muscle spasms, u...</td>\n",
       "      <td>3</td>\n",
       "    </tr>\n",
       "    <tr>\n",
       "      <td>2</td>\n",
       "      <td>#oc-R11DNU2NBKQ23Z</td>\n",
       "      <td>B005ZBZLT4</td>\n",
       "      <td>Kim Cieszykowski</td>\n",
       "      <td>1348531200</td>\n",
       "      <td>1</td>\n",
       "      <td>This coffee is horrible and unfortunately not ...</td>\n",
       "      <td>2</td>\n",
       "    </tr>\n",
       "    <tr>\n",
       "      <td>3</td>\n",
       "      <td>#oc-R11O5J5ZVQE25C</td>\n",
       "      <td>B005HG9ESG</td>\n",
       "      <td>Penguin Chick</td>\n",
       "      <td>1346889600</td>\n",
       "      <td>5</td>\n",
       "      <td>This will be the bottle that you grab from the...</td>\n",
       "      <td>3</td>\n",
       "    </tr>\n",
       "    <tr>\n",
       "      <td>4</td>\n",
       "      <td>#oc-R12KPBODL2B5ZD</td>\n",
       "      <td>B007OSBEV0</td>\n",
       "      <td>Christopher P. Presta</td>\n",
       "      <td>1348617600</td>\n",
       "      <td>1</td>\n",
       "      <td>I didnt like this coffee. Instead of telling y...</td>\n",
       "      <td>2</td>\n",
       "    </tr>\n",
       "  </tbody>\n",
       "</table>\n",
       "</div>"
      ],
      "text/plain": [
       "               UserId   ProductId             ProfileName        Time  Score  \\\n",
       "0  #oc-R115TNMSPFT9I7  B005ZBZLT4                 Breyton  1331510400      2   \n",
       "1  #oc-R11D9D7SHXIJB9  B005HG9ESG  Louis E. Emory \"hoppy\"  1342396800      5   \n",
       "2  #oc-R11DNU2NBKQ23Z  B005ZBZLT4        Kim Cieszykowski  1348531200      1   \n",
       "3  #oc-R11O5J5ZVQE25C  B005HG9ESG           Penguin Chick  1346889600      5   \n",
       "4  #oc-R12KPBODL2B5ZD  B007OSBEV0   Christopher P. Presta  1348617600      1   \n",
       "\n",
       "                                                Text  COUNT(*)  \n",
       "0  Overall its just OK when considering the price...         2  \n",
       "1  My wife has recurring extreme muscle spasms, u...         3  \n",
       "2  This coffee is horrible and unfortunately not ...         2  \n",
       "3  This will be the bottle that you grab from the...         3  \n",
       "4  I didnt like this coffee. Instead of telling y...         2  "
      ]
     },
     "execution_count": 4,
     "metadata": {},
     "output_type": "execute_result"
    }
   ],
   "source": [
    "print(display.shape)\n",
    "display.head()"
   ]
  },
  {
   "cell_type": "code",
   "execution_count": 5,
   "metadata": {
    "colab": {},
    "colab_type": "code",
    "id": "EOslHQgnLPmF",
    "outputId": "cb28598d-470a-42bb-e742-4763f953c8cb"
   },
   "outputs": [
    {
     "data": {
      "text/html": [
       "<div>\n",
       "<style scoped>\n",
       "    .dataframe tbody tr th:only-of-type {\n",
       "        vertical-align: middle;\n",
       "    }\n",
       "\n",
       "    .dataframe tbody tr th {\n",
       "        vertical-align: top;\n",
       "    }\n",
       "\n",
       "    .dataframe thead th {\n",
       "        text-align: right;\n",
       "    }\n",
       "</style>\n",
       "<table border=\"1\" class=\"dataframe\">\n",
       "  <thead>\n",
       "    <tr style=\"text-align: right;\">\n",
       "      <th></th>\n",
       "      <th>UserId</th>\n",
       "      <th>ProductId</th>\n",
       "      <th>ProfileName</th>\n",
       "      <th>Time</th>\n",
       "      <th>Score</th>\n",
       "      <th>Text</th>\n",
       "      <th>COUNT(*)</th>\n",
       "    </tr>\n",
       "  </thead>\n",
       "  <tbody>\n",
       "    <tr>\n",
       "      <td>80638</td>\n",
       "      <td>AZY10LLTJ71NX</td>\n",
       "      <td>B001ATMQK2</td>\n",
       "      <td>undertheshrine \"undertheshrine\"</td>\n",
       "      <td>1296691200</td>\n",
       "      <td>5</td>\n",
       "      <td>I bought this 6 pack because for the price tha...</td>\n",
       "      <td>5</td>\n",
       "    </tr>\n",
       "  </tbody>\n",
       "</table>\n",
       "</div>"
      ],
      "text/plain": [
       "              UserId   ProductId                      ProfileName        Time  \\\n",
       "80638  AZY10LLTJ71NX  B001ATMQK2  undertheshrine \"undertheshrine\"  1296691200   \n",
       "\n",
       "       Score                                               Text  COUNT(*)  \n",
       "80638      5  I bought this 6 pack because for the price tha...         5  "
      ]
     },
     "execution_count": 5,
     "metadata": {},
     "output_type": "execute_result"
    }
   ],
   "source": [
    "display[display['UserId']=='AZY10LLTJ71NX']"
   ]
  },
  {
   "cell_type": "code",
   "execution_count": 6,
   "metadata": {
    "colab": {},
    "colab_type": "code",
    "id": "pSwF4sdoLPmM",
    "outputId": "2f3bd7f2-0eea-45f7-eab6-bf08c630d9a3"
   },
   "outputs": [
    {
     "data": {
      "text/plain": [
       "393063"
      ]
     },
     "execution_count": 6,
     "metadata": {},
     "output_type": "execute_result"
    }
   ],
   "source": [
    "display['COUNT(*)'].sum()"
   ]
  },
  {
   "cell_type": "markdown",
   "metadata": {
    "colab_type": "text",
    "id": "PuNkhjz0LPmQ"
   },
   "source": [
    "#  [2] Exploratory Data Analysis"
   ]
  },
  {
   "cell_type": "markdown",
   "metadata": {
    "colab_type": "text",
    "id": "oCJaTWrTLPmS"
   },
   "source": [
    "## [2.1] Data Cleaning: Deduplication\n",
    "\n",
    "It is observed (as shown in the table below) that the reviews data had many duplicate entries. Hence it was necessary to remove duplicates in order to get unbiased results for the analysis of the data.  Following is an example:"
   ]
  },
  {
   "cell_type": "code",
   "execution_count": 7,
   "metadata": {
    "colab": {},
    "colab_type": "code",
    "id": "3lvzRwWVLPmT",
    "outputId": "96ba6f90-6c40-4972-ecd2-d2d208e48877",
    "scrolled": false
   },
   "outputs": [
    {
     "data": {
      "text/html": [
       "<div>\n",
       "<style scoped>\n",
       "    .dataframe tbody tr th:only-of-type {\n",
       "        vertical-align: middle;\n",
       "    }\n",
       "\n",
       "    .dataframe tbody tr th {\n",
       "        vertical-align: top;\n",
       "    }\n",
       "\n",
       "    .dataframe thead th {\n",
       "        text-align: right;\n",
       "    }\n",
       "</style>\n",
       "<table border=\"1\" class=\"dataframe\">\n",
       "  <thead>\n",
       "    <tr style=\"text-align: right;\">\n",
       "      <th></th>\n",
       "      <th>Id</th>\n",
       "      <th>ProductId</th>\n",
       "      <th>UserId</th>\n",
       "      <th>ProfileName</th>\n",
       "      <th>HelpfulnessNumerator</th>\n",
       "      <th>HelpfulnessDenominator</th>\n",
       "      <th>Score</th>\n",
       "      <th>Time</th>\n",
       "      <th>Summary</th>\n",
       "      <th>Text</th>\n",
       "    </tr>\n",
       "  </thead>\n",
       "  <tbody>\n",
       "    <tr>\n",
       "      <td>0</td>\n",
       "      <td>78445</td>\n",
       "      <td>B000HDL1RQ</td>\n",
       "      <td>AR5J8UI46CURR</td>\n",
       "      <td>Geetha Krishnan</td>\n",
       "      <td>2</td>\n",
       "      <td>2</td>\n",
       "      <td>5</td>\n",
       "      <td>1199577600</td>\n",
       "      <td>LOACKER QUADRATINI VANILLA WAFERS</td>\n",
       "      <td>DELICIOUS WAFERS. I FIND THAT EUROPEAN WAFERS ...</td>\n",
       "    </tr>\n",
       "    <tr>\n",
       "      <td>1</td>\n",
       "      <td>138317</td>\n",
       "      <td>B000HDOPYC</td>\n",
       "      <td>AR5J8UI46CURR</td>\n",
       "      <td>Geetha Krishnan</td>\n",
       "      <td>2</td>\n",
       "      <td>2</td>\n",
       "      <td>5</td>\n",
       "      <td>1199577600</td>\n",
       "      <td>LOACKER QUADRATINI VANILLA WAFERS</td>\n",
       "      <td>DELICIOUS WAFERS. I FIND THAT EUROPEAN WAFERS ...</td>\n",
       "    </tr>\n",
       "    <tr>\n",
       "      <td>2</td>\n",
       "      <td>138277</td>\n",
       "      <td>B000HDOPYM</td>\n",
       "      <td>AR5J8UI46CURR</td>\n",
       "      <td>Geetha Krishnan</td>\n",
       "      <td>2</td>\n",
       "      <td>2</td>\n",
       "      <td>5</td>\n",
       "      <td>1199577600</td>\n",
       "      <td>LOACKER QUADRATINI VANILLA WAFERS</td>\n",
       "      <td>DELICIOUS WAFERS. I FIND THAT EUROPEAN WAFERS ...</td>\n",
       "    </tr>\n",
       "    <tr>\n",
       "      <td>3</td>\n",
       "      <td>73791</td>\n",
       "      <td>B000HDOPZG</td>\n",
       "      <td>AR5J8UI46CURR</td>\n",
       "      <td>Geetha Krishnan</td>\n",
       "      <td>2</td>\n",
       "      <td>2</td>\n",
       "      <td>5</td>\n",
       "      <td>1199577600</td>\n",
       "      <td>LOACKER QUADRATINI VANILLA WAFERS</td>\n",
       "      <td>DELICIOUS WAFERS. I FIND THAT EUROPEAN WAFERS ...</td>\n",
       "    </tr>\n",
       "    <tr>\n",
       "      <td>4</td>\n",
       "      <td>155049</td>\n",
       "      <td>B000PAQ75C</td>\n",
       "      <td>AR5J8UI46CURR</td>\n",
       "      <td>Geetha Krishnan</td>\n",
       "      <td>2</td>\n",
       "      <td>2</td>\n",
       "      <td>5</td>\n",
       "      <td>1199577600</td>\n",
       "      <td>LOACKER QUADRATINI VANILLA WAFERS</td>\n",
       "      <td>DELICIOUS WAFERS. I FIND THAT EUROPEAN WAFERS ...</td>\n",
       "    </tr>\n",
       "  </tbody>\n",
       "</table>\n",
       "</div>"
      ],
      "text/plain": [
       "       Id   ProductId         UserId      ProfileName  HelpfulnessNumerator  \\\n",
       "0   78445  B000HDL1RQ  AR5J8UI46CURR  Geetha Krishnan                     2   \n",
       "1  138317  B000HDOPYC  AR5J8UI46CURR  Geetha Krishnan                     2   \n",
       "2  138277  B000HDOPYM  AR5J8UI46CURR  Geetha Krishnan                     2   \n",
       "3   73791  B000HDOPZG  AR5J8UI46CURR  Geetha Krishnan                     2   \n",
       "4  155049  B000PAQ75C  AR5J8UI46CURR  Geetha Krishnan                     2   \n",
       "\n",
       "   HelpfulnessDenominator  Score        Time  \\\n",
       "0                       2      5  1199577600   \n",
       "1                       2      5  1199577600   \n",
       "2                       2      5  1199577600   \n",
       "3                       2      5  1199577600   \n",
       "4                       2      5  1199577600   \n",
       "\n",
       "                             Summary  \\\n",
       "0  LOACKER QUADRATINI VANILLA WAFERS   \n",
       "1  LOACKER QUADRATINI VANILLA WAFERS   \n",
       "2  LOACKER QUADRATINI VANILLA WAFERS   \n",
       "3  LOACKER QUADRATINI VANILLA WAFERS   \n",
       "4  LOACKER QUADRATINI VANILLA WAFERS   \n",
       "\n",
       "                                                Text  \n",
       "0  DELICIOUS WAFERS. I FIND THAT EUROPEAN WAFERS ...  \n",
       "1  DELICIOUS WAFERS. I FIND THAT EUROPEAN WAFERS ...  \n",
       "2  DELICIOUS WAFERS. I FIND THAT EUROPEAN WAFERS ...  \n",
       "3  DELICIOUS WAFERS. I FIND THAT EUROPEAN WAFERS ...  \n",
       "4  DELICIOUS WAFERS. I FIND THAT EUROPEAN WAFERS ...  "
      ]
     },
     "execution_count": 7,
     "metadata": {},
     "output_type": "execute_result"
    }
   ],
   "source": [
    "display= pd.read_sql_query(\"\"\"\n",
    "SELECT *\n",
    "FROM Reviews\n",
    "WHERE Score != 3 AND UserId=\"AR5J8UI46CURR\"\n",
    "ORDER BY ProductID\n",
    "\"\"\", con)\n",
    "display.head()"
   ]
  },
  {
   "cell_type": "markdown",
   "metadata": {
    "colab_type": "text",
    "id": "uT7p9_deLPmb"
   },
   "source": [
    "As it can be seen above that same user has multiple reviews with same values for HelpfulnessNumerator, HelpfulnessDenominator, Score, Time, Summary and Text and on doing analysis it was found that <br>\n",
    "<br> \n",
    "ProductId=B000HDOPZG was Loacker Quadratini Vanilla Wafer Cookies, 8.82-Ounce Packages (Pack of 8)<br>\n",
    "<br> \n",
    "ProductId=B000HDL1RQ was Loacker Quadratini Lemon Wafer Cookies, 8.82-Ounce Packages (Pack of 8) and so on<br>\n",
    "\n",
    "It was inferred after analysis that reviews with same parameters other than ProductId belonged to the same product just having different flavour or quantity. Hence in order to reduce redundancy it was decided to eliminate the rows having same parameters.<br>\n",
    "\n",
    "The method used for the same was that we first sort the data according to ProductId and then just keep the first similar product review and delelte the others. for eg. in the above just the review for ProductId=B000HDL1RQ remains. This method ensures that there is only one representative for each product and deduplication without sorting would lead to possibility of different representatives still existing for the same product."
   ]
  },
  {
   "cell_type": "code",
   "execution_count": 8,
   "metadata": {
    "colab": {},
    "colab_type": "code",
    "id": "mdsKFc50LPme"
   },
   "outputs": [],
   "source": [
    "#Sorting data according to ProductId in ascending order\n",
    "sorted_data=filtered_data.sort_values('ProductId', axis=0, ascending=True, inplace=False, kind='quicksort', na_position='last')\n",
    "sorted_data=sorted_data.sort_values('Time')"
   ]
  },
  {
   "cell_type": "code",
   "execution_count": 9,
   "metadata": {
    "colab": {},
    "colab_type": "code",
    "id": "2itLgX-NLPmk",
    "outputId": "ac765625-dfdc-4e4e-f886-bd3b7ca3635a"
   },
   "outputs": [
    {
     "data": {
      "text/plain": [
       "(87775, 10)"
      ]
     },
     "execution_count": 9,
     "metadata": {},
     "output_type": "execute_result"
    }
   ],
   "source": [
    "#Deduplication of entries\n",
    "final=sorted_data.drop_duplicates(subset={\"UserId\",\"ProfileName\",\"Time\",\"Text\"}, keep='first', inplace=False)\n",
    "final.shape"
   ]
  },
  {
   "cell_type": "code",
   "execution_count": 10,
   "metadata": {
    "colab": {},
    "colab_type": "code",
    "id": "IBU4iZk4LPmt",
    "outputId": "ceeba223-fe3f-407a-b4e5-0d46c08f69dd"
   },
   "outputs": [
    {
     "data": {
      "text/plain": [
       "87.775"
      ]
     },
     "execution_count": 10,
     "metadata": {},
     "output_type": "execute_result"
    }
   ],
   "source": [
    "#Checking to see how much % of data still remains\n",
    "(final['Id'].size*1.0)/(filtered_data['Id'].size*1.0)*100"
   ]
  },
  {
   "cell_type": "markdown",
   "metadata": {
    "colab_type": "text",
    "id": "gFBOfSe4LPmy"
   },
   "source": [
    "<b>Observation:-</b> It was also seen that in two rows given below the value of HelpfulnessNumerator is greater than HelpfulnessDenominator which is not practically possible hence these two rows too are removed from calcualtions"
   ]
  },
  {
   "cell_type": "code",
   "execution_count": 11,
   "metadata": {
    "colab": {},
    "colab_type": "code",
    "id": "50flE40lLPmz",
    "outputId": "b6c7e38e-25c1-4a48-be1f-70fdf31aba13"
   },
   "outputs": [
    {
     "data": {
      "text/html": [
       "<div>\n",
       "<style scoped>\n",
       "    .dataframe tbody tr th:only-of-type {\n",
       "        vertical-align: middle;\n",
       "    }\n",
       "\n",
       "    .dataframe tbody tr th {\n",
       "        vertical-align: top;\n",
       "    }\n",
       "\n",
       "    .dataframe thead th {\n",
       "        text-align: right;\n",
       "    }\n",
       "</style>\n",
       "<table border=\"1\" class=\"dataframe\">\n",
       "  <thead>\n",
       "    <tr style=\"text-align: right;\">\n",
       "      <th></th>\n",
       "      <th>Id</th>\n",
       "      <th>ProductId</th>\n",
       "      <th>UserId</th>\n",
       "      <th>ProfileName</th>\n",
       "      <th>HelpfulnessNumerator</th>\n",
       "      <th>HelpfulnessDenominator</th>\n",
       "      <th>Score</th>\n",
       "      <th>Time</th>\n",
       "      <th>Summary</th>\n",
       "      <th>Text</th>\n",
       "    </tr>\n",
       "  </thead>\n",
       "  <tbody>\n",
       "    <tr>\n",
       "      <td>0</td>\n",
       "      <td>64422</td>\n",
       "      <td>B000MIDROQ</td>\n",
       "      <td>A161DK06JJMCYF</td>\n",
       "      <td>J. E. Stephens \"Jeanne\"</td>\n",
       "      <td>3</td>\n",
       "      <td>1</td>\n",
       "      <td>5</td>\n",
       "      <td>1224892800</td>\n",
       "      <td>Bought This for My Son at College</td>\n",
       "      <td>My son loves spaghetti so I didn't hesitate or...</td>\n",
       "    </tr>\n",
       "    <tr>\n",
       "      <td>1</td>\n",
       "      <td>44737</td>\n",
       "      <td>B001EQ55RW</td>\n",
       "      <td>A2V0I904FH7ABY</td>\n",
       "      <td>Ram</td>\n",
       "      <td>3</td>\n",
       "      <td>2</td>\n",
       "      <td>4</td>\n",
       "      <td>1212883200</td>\n",
       "      <td>Pure cocoa taste with crunchy almonds inside</td>\n",
       "      <td>It was almost a 'love at first bite' - the per...</td>\n",
       "    </tr>\n",
       "  </tbody>\n",
       "</table>\n",
       "</div>"
      ],
      "text/plain": [
       "      Id   ProductId          UserId              ProfileName  \\\n",
       "0  64422  B000MIDROQ  A161DK06JJMCYF  J. E. Stephens \"Jeanne\"   \n",
       "1  44737  B001EQ55RW  A2V0I904FH7ABY                      Ram   \n",
       "\n",
       "   HelpfulnessNumerator  HelpfulnessDenominator  Score        Time  \\\n",
       "0                     3                       1      5  1224892800   \n",
       "1                     3                       2      4  1212883200   \n",
       "\n",
       "                                        Summary  \\\n",
       "0             Bought This for My Son at College   \n",
       "1  Pure cocoa taste with crunchy almonds inside   \n",
       "\n",
       "                                                Text  \n",
       "0  My son loves spaghetti so I didn't hesitate or...  \n",
       "1  It was almost a 'love at first bite' - the per...  "
      ]
     },
     "execution_count": 11,
     "metadata": {},
     "output_type": "execute_result"
    }
   ],
   "source": [
    "display= pd.read_sql_query(\"\"\"\n",
    "SELECT *\n",
    "FROM Reviews\n",
    "WHERE Score != 3 AND Id=44737 OR Id=64422\n",
    "ORDER BY ProductID\n",
    "\"\"\", con)\n",
    "\n",
    "display.head()"
   ]
  },
  {
   "cell_type": "code",
   "execution_count": 12,
   "metadata": {
    "colab": {},
    "colab_type": "code",
    "id": "0YTPJMLTLPm7"
   },
   "outputs": [],
   "source": [
    "final=final[final.HelpfulnessNumerator<=final.HelpfulnessDenominator]"
   ]
  },
  {
   "cell_type": "code",
   "execution_count": 13,
   "metadata": {
    "colab": {},
    "colab_type": "code",
    "id": "LVJ_l-x2LPnC",
    "outputId": "d4a19c7a-16fe-4b5b-c3d1-aa1ef0f948a0"
   },
   "outputs": [
    {
     "name": "stdout",
     "output_type": "stream",
     "text": [
      "(87773, 10)\n"
     ]
    }
   ],
   "source": [
    "#Before starting the next phase of preprocessing lets see the number of entries left\n",
    "print(final.shape)\n",
    "\n",
    "#How many positive and negative reviews are present in our dataset?\n",
    "final['Score'].value_counts()\n",
    "y = final['Score']"
   ]
  },
  {
   "cell_type": "markdown",
   "metadata": {
    "colab_type": "text",
    "id": "GrTYWzYrLPnH"
   },
   "source": [
    "#  [3] Preprocessing"
   ]
  },
  {
   "cell_type": "markdown",
   "metadata": {
    "colab_type": "text",
    "id": "zbvLitZeLPnI"
   },
   "source": [
    "## [3.1].  Preprocessing Review Text\n",
    "\n",
    "Now that we have finished deduplication our data requires some preprocessing before we go on further with analysis and making the prediction model.\n",
    "\n",
    "Hence in the Preprocessing phase we do the following in the order below:-\n",
    "\n",
    "1. Begin by removing the html tags\n",
    "2. Remove any punctuations or limited set of special characters like , or . or # etc.\n",
    "3. Check if the word is made up of english letters and is not alpha-numeric\n",
    "4. Check to see if the length of the word is greater than 2 (as it was researched that there is no adjective in 2-letters)\n",
    "5. Convert the word to lowercase\n",
    "6. Remove Stopwords\n",
    "7. Finally Snowball Stemming the word (it was obsereved to be better than Porter Stemming)<br>\n",
    "\n",
    "After which we collect the words used to describe positive and negative reviews"
   ]
  },
  {
   "cell_type": "code",
   "execution_count": 14,
   "metadata": {
    "colab": {},
    "colab_type": "code",
    "id": "yYDc0ZXALPnK",
    "outputId": "5403fab9-796a-493d-f9d3-2a410d004f64"
   },
   "outputs": [
    {
     "name": "stdout",
     "output_type": "stream",
     "text": [
      "I bought a few of these after my apartment was infested with fruit flies. After only a few hours, the trap had &quot;attracted&quot; many flies and within a few days they were practically gone. This may not be a long term  solution, but if flies are driving you crazy, consider buying this. One  caution- the surface is very sticky, so try to avoid touching it.\n",
      "==================================================\n",
      "I have made these brownies for family and for a den of cub scouts and no one would have known they were gluten free and everyone asked for seconds!  These brownies have a fudgy texture and have bits of chocolate chips in them which are delicious.  I would say the mix is very thick and a little difficult to work with.  The cooked brownies are slightly difficult to cut into very neat edges as the edges tend to crumble a little and I would also say that they make a slightly thinner layer of brownies than most of the store brand gluten containing but they taste just as good, if not better.  Highly recommended!<br /><br />(For those wondering, this mix requires 2 eggs OR 4 egg whites and 7 tbs melted butter to prepare.  They do have suggestions for lactose free and low fat preparations)\n",
      "==================================================\n",
      "I love Pretzels and have to say that after trying my way through many different kinds, these are The BEST.<br /><br />The taste great, are REALLY crunchy - a key requirement for me - and have just the right amount of salt. The Newman's Rounds are just as good - maybe even better.<br /><br />And as an added bonus, Paul Newmann donates all his after tax profits from the sale of his products to charity - an unbeatable combination in my book!\n",
      "==================================================\n",
      "Last fall I bought a slew of different protein bar brands to see which I liked the most.  Of the many brands I tried, most all were roughly the same in taste, texture, etc.  But these Honey Stingers stood out to me.  They have a much smoother texture, and have a great sweetness to them that really makes them taste great.  I'm a huge fan... gonna by a bunch more boxes for snacks and workouts.\n",
      "==================================================\n"
     ]
    }
   ],
   "source": [
    "# printing some random reviews\n",
    "sent_0 = final['Text'].values[0]\n",
    "print(sent_0)\n",
    "print(\"=\"*50)\n",
    "\n",
    "sent_1000 = final['Text'].values[1000]\n",
    "print(sent_1000)\n",
    "print(\"=\"*50)\n",
    "\n",
    "sent_1500 = final['Text'].values[1500]\n",
    "print(sent_1500)\n",
    "print(\"=\"*50)\n",
    "\n",
    "sent_4900 = final['Text'].values[4900]\n",
    "print(sent_4900)\n",
    "print(\"=\"*50)"
   ]
  },
  {
   "cell_type": "code",
   "execution_count": 15,
   "metadata": {
    "colab": {},
    "colab_type": "code",
    "id": "AxYh-wPiLPnS",
    "outputId": "31bddcb2-6c52-4b16-f9fb-c03d5b3bb7c8"
   },
   "outputs": [
    {
     "name": "stdout",
     "output_type": "stream",
     "text": [
      "I bought a few of these after my apartment was infested with fruit flies. After only a few hours, the trap had &quot;attracted&quot; many flies and within a few days they were practically gone. This may not be a long term  solution, but if flies are driving you crazy, consider buying this. One  caution- the surface is very sticky, so try to avoid touching it.\n"
     ]
    }
   ],
   "source": [
    "# remove urls from text python: https://stackoverflow.com/a/40823105/4084039\n",
    "sent_0 = re.sub(r\"http\\S+\", \"\", sent_0)\n",
    "sent_1000 = re.sub(r\"http\\S+\", \"\", sent_1000)\n",
    "sent_150 = re.sub(r\"http\\S+\", \"\", sent_1500)\n",
    "sent_4900 = re.sub(r\"http\\S+\", \"\", sent_4900)\n",
    "\n",
    "print(sent_0)"
   ]
  },
  {
   "cell_type": "code",
   "execution_count": 16,
   "metadata": {
    "colab": {},
    "colab_type": "code",
    "id": "JMSSWjZqLPne",
    "outputId": "eb1bae4e-6f37-45ee-84a3-ef3bebf4e30a"
   },
   "outputs": [
    {
     "name": "stdout",
     "output_type": "stream",
     "text": [
      "I bought a few of these after my apartment was infested with fruit flies. After only a few hours, the trap had \"attracted\" many flies and within a few days they were practically gone. This may not be a long term  solution, but if flies are driving you crazy, consider buying this. One  caution- the surface is very sticky, so try to avoid touching it.\n",
      "==================================================\n",
      "I have made these brownies for family and for a den of cub scouts and no one would have known they were gluten free and everyone asked for seconds!  These brownies have a fudgy texture and have bits of chocolate chips in them which are delicious.  I would say the mix is very thick and a little difficult to work with.  The cooked brownies are slightly difficult to cut into very neat edges as the edges tend to crumble a little and I would also say that they make a slightly thinner layer of brownies than most of the store brand gluten containing but they taste just as good, if not better.  Highly recommended!(For those wondering, this mix requires 2 eggs OR 4 egg whites and 7 tbs melted butter to prepare.  They do have suggestions for lactose free and low fat preparations)\n",
      "==================================================\n",
      "I love Pretzels and have to say that after trying my way through many different kinds, these are The BEST.The taste great, are REALLY crunchy - a key requirement for me - and have just the right amount of salt. The Newman's Rounds are just as good - maybe even better.And as an added bonus, Paul Newmann donates all his after tax profits from the sale of his products to charity - an unbeatable combination in my book!\n",
      "==================================================\n",
      "Last fall I bought a slew of different protein bar brands to see which I liked the most.  Of the many brands I tried, most all were roughly the same in taste, texture, etc.  But these Honey Stingers stood out to me.  They have a much smoother texture, and have a great sweetness to them that really makes them taste great.  I'm a huge fan... gonna by a bunch more boxes for snacks and workouts.\n"
     ]
    }
   ],
   "source": [
    "# https://stackoverflow.com/questions/16206380/python-beautifulsoup-how-to-remove-all-tags-from-an-element\n",
    "from bs4 import BeautifulSoup\n",
    "\n",
    "soup = BeautifulSoup(sent_0, 'lxml')\n",
    "text = soup.get_text()\n",
    "print(text)\n",
    "print(\"=\"*50)\n",
    "\n",
    "soup = BeautifulSoup(sent_1000, 'lxml')\n",
    "text = soup.get_text()\n",
    "print(text)\n",
    "print(\"=\"*50)\n",
    "\n",
    "soup = BeautifulSoup(sent_1500, 'lxml')\n",
    "text = soup.get_text()\n",
    "print(text)\n",
    "print(\"=\"*50)\n",
    "\n",
    "soup = BeautifulSoup(sent_4900, 'lxml')\n",
    "text = soup.get_text()\n",
    "print(text)"
   ]
  },
  {
   "cell_type": "code",
   "execution_count": 17,
   "metadata": {
    "colab": {},
    "colab_type": "code",
    "id": "BEtpMkhULPnt"
   },
   "outputs": [],
   "source": [
    "# https://stackoverflow.com/a/47091490/4084039\n",
    "import re\n",
    "\n",
    "def decontracted(phrase):\n",
    "    # specific\n",
    "    phrase = re.sub(r\"won't\", \"will not\", phrase)\n",
    "    phrase = re.sub(r\"can\\'t\", \"can not\", phrase)\n",
    "\n",
    "    # general\n",
    "    phrase = re.sub(r\"n\\'t\", \" not\", phrase)\n",
    "    phrase = re.sub(r\"\\'re\", \" are\", phrase)\n",
    "    phrase = re.sub(r\"\\'s\", \" is\", phrase)\n",
    "    phrase = re.sub(r\"\\'d\", \" would\", phrase)\n",
    "    phrase = re.sub(r\"\\'ll\", \" will\", phrase)\n",
    "    phrase = re.sub(r\"\\'t\", \" not\", phrase)\n",
    "    phrase = re.sub(r\"\\'ve\", \" have\", phrase)\n",
    "    phrase = re.sub(r\"\\'m\", \" am\", phrase)\n",
    "    return phrase"
   ]
  },
  {
   "cell_type": "code",
   "execution_count": 18,
   "metadata": {
    "colab": {},
    "colab_type": "code",
    "id": "GavAnzNjLPnx",
    "outputId": "517fca9a-b1b6-4c6c-ab33-4c5ac4a5bd62"
   },
   "outputs": [
    {
     "name": "stdout",
     "output_type": "stream",
     "text": [
      "I love Pretzels and have to say that after trying my way through many different kinds, these are The BEST.<br /><br />The taste great, are REALLY crunchy - a key requirement for me - and have just the right amount of salt. The Newman is Rounds are just as good - maybe even better.<br /><br />And as an added bonus, Paul Newmann donates all his after tax profits from the sale of his products to charity - an unbeatable combination in my book!\n",
      "==================================================\n"
     ]
    }
   ],
   "source": [
    "sent_1500 = decontracted(sent_1500)\n",
    "print(sent_1500)\n",
    "print(\"=\"*50)"
   ]
  },
  {
   "cell_type": "code",
   "execution_count": 19,
   "metadata": {
    "colab": {},
    "colab_type": "code",
    "id": "Kl8nOoL-LPn3",
    "outputId": "16742d57-2529-4fc0-9d28-e9332dbbca97"
   },
   "outputs": [
    {
     "name": "stdout",
     "output_type": "stream",
     "text": [
      "I bought a few of these after my apartment was infested with fruit flies. After only a few hours, the trap had &quot;attracted&quot; many flies and within a few days they were practically gone. This may not be a long term  solution, but if flies are driving you crazy, consider buying this. One  caution- the surface is very sticky, so try to avoid touching it.\n"
     ]
    }
   ],
   "source": [
    "#remove words with numbers python: https://stackoverflow.com/a/18082370/4084039\n",
    "sent_0 = re.sub(\"\\S*\\d\\S*\", \"\", sent_0).strip()\n",
    "print(sent_0)"
   ]
  },
  {
   "cell_type": "code",
   "execution_count": 20,
   "metadata": {
    "colab": {},
    "colab_type": "code",
    "id": "EGB6X2uxLPn7",
    "outputId": "dbd754e5-eb73-4b3a-f3c3-7b1b40952851"
   },
   "outputs": [
    {
     "name": "stdout",
     "output_type": "stream",
     "text": [
      "I love Pretzels and have to say that after trying my way through many different kinds these are The BEST br br The taste great are REALLY crunchy a key requirement for me and have just the right amount of salt The Newman is Rounds are just as good maybe even better br br And as an added bonus Paul Newmann donates all his after tax profits from the sale of his products to charity an unbeatable combination in my book \n"
     ]
    }
   ],
   "source": [
    "#remove spacial character: https://stackoverflow.com/a/5843547/4084039\n",
    "sent_1500 = re.sub('[^A-Za-z0-9]+', ' ', sent_1500)\n",
    "print(sent_1500)"
   ]
  },
  {
   "cell_type": "code",
   "execution_count": 21,
   "metadata": {
    "colab": {},
    "colab_type": "code",
    "id": "CCurSJJ2LPn_"
   },
   "outputs": [],
   "source": [
    "# https://gist.github.com/sebleier/554280\n",
    "# we are removing the words from the stop words list: 'no', 'nor', 'not'\n",
    "# <br /><br /> ==> after the above steps, we are getting \"br br\"\n",
    "# we are including them into stop words list\n",
    "# instead of <br /> if we have <br/> these tags would have revmoved in the 1st step\n",
    "\n",
    "stopwords= set(['br', 'the', 'i', 'me', 'my', 'myself', 'we', 'our', 'ours', 'ourselves', 'you', \"you're\", \"you've\",\\\n",
    "            \"you'll\", \"you'd\", 'your', 'yours', 'yourself', 'yourselves', 'he', 'him', 'his', 'himself', \\\n",
    "            'she', \"she's\", 'her', 'hers', 'herself', 'it', \"it's\", 'its', 'itself', 'they', 'them', 'their',\\\n",
    "            'theirs', 'themselves', 'what', 'which', 'who', 'whom', 'this', 'that', \"that'll\", 'these', 'those', \\\n",
    "            'am', 'is', 'are', 'was', 'were', 'be', 'been', 'being', 'have', 'has', 'had', 'having', 'do', 'does', \\\n",
    "            'did', 'doing', 'a', 'an', 'the', 'and', 'but', 'if', 'or', 'because', 'as', 'until', 'while', 'of', \\\n",
    "            'at', 'by', 'for', 'with', 'about', 'against', 'between', 'into', 'through', 'during', 'before', 'after',\\\n",
    "            'above', 'below', 'to', 'from', 'up', 'down', 'in', 'out', 'on', 'off', 'over', 'under', 'again', 'further',\\\n",
    "            'then', 'once', 'here', 'there', 'when', 'where', 'why', 'how', 'all', 'any', 'both', 'each', 'few', 'more',\\\n",
    "            'most', 'other', 'some', 'such', 'only', 'own', 'same', 'so', 'than', 'too', 'very', \\\n",
    "            's', 't', 'can', 'will', 'just', 'don', \"don't\", 'should', \"should've\", 'now', 'd', 'll', 'm', 'o', 're', \\\n",
    "            've', 'y', 'ain', 'aren', \"aren't\", 'couldn', \"couldn't\", 'didn', \"didn't\", 'doesn', \"doesn't\", 'hadn',\\\n",
    "            \"hadn't\", 'hasn', \"hasn't\", 'haven', \"haven't\", 'isn', \"isn't\", 'ma', 'mightn', \"mightn't\", 'mustn',\\\n",
    "            \"mustn't\", 'needn', \"needn't\", 'shan', \"shan't\", 'shouldn', \"shouldn't\", 'wasn', \"wasn't\", 'weren', \"weren't\", \\\n",
    "            'won', \"won't\", 'wouldn', \"wouldn't\"])"
   ]
  },
  {
   "cell_type": "code",
   "execution_count": 22,
   "metadata": {
    "colab": {},
    "colab_type": "code",
    "id": "mFHQEvfnLPoF",
    "outputId": "5cd6bcc3-54fe-4a8e-a39d-d6dabf3f37f9"
   },
   "outputs": [
    {
     "name": "stderr",
     "output_type": "stream",
     "text": [
      "100%|██████████| 87773/87773 [00:40<00:00, 2175.74it/s]\n"
     ]
    }
   ],
   "source": [
    "# Combining all the above stundents \n",
    "from tqdm import tqdm\n",
    "preprocessed_reviews = []\n",
    "# tqdm is for printing the status bar\n",
    "for sentance in tqdm(final['Text'].values):\n",
    "    sentance = re.sub(r\"http\\S+\", \"\", sentance)\n",
    "    sentance = BeautifulSoup(sentance, 'lxml').get_text()\n",
    "    sentance = decontracted(sentance)\n",
    "    sentance = re.sub(\"\\S*\\d\\S*\", \"\", sentance).strip()\n",
    "    sentance = re.sub('[^A-Za-z]+', ' ', sentance)\n",
    "    # https://gist.github.com/sebleier/554280\n",
    "    sentance = ' '.join(e.lower() for e in sentance.split() if e.lower() not in stopwords)\n",
    "    preprocessed_reviews.append(sentance.strip())\n",
    "final['CleanedText'] = preprocessed_reviews"
   ]
  },
  {
   "cell_type": "code",
   "execution_count": 23,
   "metadata": {
    "colab": {},
    "colab_type": "code",
    "id": "Tqx8QUeRLPoH",
    "outputId": "0182081c-6282-4113-b186-5b5bac596388"
   },
   "outputs": [
    {
     "data": {
      "text/plain": [
       "'love pretzels say trying way many different kinds best taste great really crunchy key requirement right amount salt newman rounds good maybe even better added bonus paul newmann donates tax profits sale products charity unbeatable combination book'"
      ]
     },
     "execution_count": 23,
     "metadata": {},
     "output_type": "execute_result"
    }
   ],
   "source": [
    "preprocessed_reviews[1500]"
   ]
  },
  {
   "cell_type": "markdown",
   "metadata": {
    "colab_type": "text",
    "id": "9IuKp2HULPoL"
   },
   "source": [
    "<h2><font color='red'>[3.2] Preprocessing Review Summary</font></h2>"
   ]
  },
  {
   "cell_type": "code",
   "execution_count": 90,
   "metadata": {
    "colab": {},
    "colab_type": "code",
    "id": "Qk7gYOmKLPoM"
   },
   "outputs": [],
   "source": [
    "## Similartly you can do preprocessing for review summary also."
   ]
  },
  {
   "cell_type": "markdown",
   "metadata": {
    "colab_type": "text",
    "id": "B93jqKuhLPoQ"
   },
   "source": [
    "# [4] Featurization"
   ]
  },
  {
   "cell_type": "markdown",
   "metadata": {
    "colab_type": "text",
    "id": "Mr4j2QhgLPoQ"
   },
   "source": [
    "## [4.1] BAG OF WORDS"
   ]
  },
  {
   "cell_type": "code",
   "execution_count": 26,
   "metadata": {
    "colab": {},
    "colab_type": "code",
    "id": "dZVHt3mtLPoR",
    "outputId": "ea1629cd-7c92-400e-9acd-f7caeef0f389"
   },
   "outputs": [
    {
     "name": "stdout",
     "output_type": "stream",
     "text": [
      "some feature names  ['aa', 'aaa', 'aaaa', 'aaaaa', 'aaaaaaaaaaaa', 'aaaaaaaaaaaaaaa', 'aaaaaaahhhhhh', 'aaaaaaarrrrrggghhh', 'aaaaaawwwwwwwwww', 'aaaaah']\n",
      "==================================================\n",
      "the type of count vectorizer  <class 'scipy.sparse.csr.csr_matrix'>\n",
      "the shape of out text BOW vectorizer  (87773, 54904)\n",
      "the number of unique words  54904\n"
     ]
    }
   ],
   "source": [
    "#BoW\n",
    "count_vect = CountVectorizer() #in scikit-learn\n",
    "count_vect.fit(preprocessed_reviews)\n",
    "print(\"some feature names \", count_vect.get_feature_names()[:10])\n",
    "print('='*50)\n",
    "\n",
    "final_counts = count_vect.transform(preprocessed_reviews)\n",
    "print(\"the type of count vectorizer \",type(final_counts))\n",
    "print(\"the shape of out text BOW vectorizer \",final_counts.get_shape())\n",
    "print(\"the number of unique words \", final_counts.get_shape()[1])"
   ]
  },
  {
   "cell_type": "markdown",
   "metadata": {
    "colab_type": "text",
    "id": "tSf5kRdLLPoV"
   },
   "source": [
    "## [4.2] Bi-Grams and n-Grams."
   ]
  },
  {
   "cell_type": "code",
   "execution_count": 27,
   "metadata": {
    "colab": {},
    "colab_type": "code",
    "id": "Yfk2d7bLLPoW",
    "outputId": "33472132-5eb3-493f-b08c-081749f99239"
   },
   "outputs": [
    {
     "name": "stdout",
     "output_type": "stream",
     "text": [
      "the type of count vectorizer  <class 'scipy.sparse.csr.csr_matrix'>\n",
      "the shape of out text BOW vectorizer  (87773, 5000)\n",
      "the number of unique words including both unigrams and bigrams  5000\n"
     ]
    }
   ],
   "source": [
    "#bi-gram, tri-gram and n-gram\n",
    "\n",
    "#removing stop words like \"not\" should be avoided before building n-grams\n",
    "# count_vect = CountVectorizer(ngram_range=(1,2))\n",
    "# please do read the CountVectorizer documentation http://scikit-learn.org/stable/modules/generated/sklearn.feature_extraction.text.CountVectorizer.html\n",
    "\n",
    "# you can choose these numebrs min_df=10, max_features=5000, of your choice\n",
    "count_vect = CountVectorizer(ngram_range=(1,2), min_df=10, max_features=5000)\n",
    "final_bigram_counts = count_vect.fit_transform(preprocessed_reviews)\n",
    "print(\"the type of count vectorizer \",type(final_bigram_counts))\n",
    "print(\"the shape of out text BOW vectorizer \",final_bigram_counts.get_shape())\n",
    "print(\"the number of unique words including both unigrams and bigrams \", final_bigram_counts.get_shape()[1])"
   ]
  },
  {
   "cell_type": "markdown",
   "metadata": {
    "colab_type": "text",
    "id": "-cEEpDx0LPoZ"
   },
   "source": [
    "## [4.3] TF-IDF"
   ]
  },
  {
   "cell_type": "code",
   "execution_count": 0,
   "metadata": {
    "colab": {},
    "colab_type": "code",
    "id": "TgP61HqBLPoa",
    "outputId": "15f1c123-d93b-414d-914b-d4e3f32a6ac1"
   },
   "outputs": [
    {
     "name": "stdout",
     "output_type": "stream",
     "text": [
      "some sample features(unique words in the corpus) ['ability', 'able', 'able find', 'able get', 'absolute', 'absolutely', 'absolutely delicious', 'absolutely love', 'absolutely no', 'according']\n",
      "==================================================\n",
      "the type of count vectorizer  <class 'scipy.sparse.csr.csr_matrix'>\n",
      "the shape of out text TFIDF vectorizer  (4986, 3144)\n",
      "the number of unique words including both unigrams and bigrams  3144\n"
     ]
    }
   ],
   "source": [
    "tf_idf_vect = TfidfVectorizer(ngram_range=(1,2), min_df=10)\n",
    "tf_idf_vect.fit(preprocessed_reviews)\n",
    "print(\"some sample features(unique words in the corpus)\",tf_idf_vect.get_feature_names()[0:10])\n",
    "print('='*50)\n",
    "\n",
    "final_tf_idf = tf_idf_vect.transform(preprocessed_reviews)\n",
    "print(\"the type of count vectorizer \",type(final_tf_idf))\n",
    "print(\"the shape of out text TFIDF vectorizer \",final_tf_idf.get_shape())\n",
    "print(\"the number of unique words including both unigrams and bigrams \", final_tf_idf.get_shape()[1])"
   ]
  },
  {
   "cell_type": "markdown",
   "metadata": {
    "colab_type": "text",
    "id": "m3YEHTLPLPod"
   },
   "source": [
    "## [4.4] Word2Vec"
   ]
  },
  {
   "cell_type": "code",
   "execution_count": 153,
   "metadata": {
    "colab": {},
    "colab_type": "code",
    "id": "zwPZCf8cLPoe"
   },
   "outputs": [
    {
     "name": "stdout",
     "output_type": "stream",
     "text": [
      "different opinion first reviewer think triple berry granola simply great tasty full whole grain goodness may need berries though sometimes get bag no berries try see like way full fiber good\n",
      "*****************************************************************\n",
      "['excited', 'gum', 'not', 'artificial', 'sweeteners', 'bought', 'two', 'boxes', 'glee', 'gum', 'peppermint', 'triple', 'berry', 'arrived', 'tore', 'open', 'box', 'popped', 'pieces', 'disappointment', 'began', 'minutes', 'later', 'flavor', 'quickly', 'dissipated', 'took', 'couple', 'pieces', 'flavor', 'returned', 'disappointed', 'later', 'went', 'away', 'money', 'better', 'spent', 'sucking', 'lollipops', 'eating', 'found', 'gum', 'not', 'artificial', 'sweeteners', 'dentine', 'gum', 'cinnamon', 'never', 'ending', 'disappointment', 'never', 'ending', 'calories', 'try', 'keep', 'flavor']\n",
      "disappointed gerber added dha green beans son used love gerber organic green beans unwittingly tried feeding new formulation added dha kept refusing notice consistency different usual gel like texture read ingredients saw added tuna oil today learned another favorites gerber organic carrots dha added frustrated looks like making baby food\n",
      "*****************************************************************\n",
      "['disappointed', 'gerber', 'added', 'dha', 'green', 'beans', 'son', 'used', 'love', 'gerber', 'organic', 'green', 'beans', 'unwittingly', 'tried', 'feeding', 'new', 'formulation', 'added', 'dha', 'kept', 'refusing', 'notice', 'consistency', 'different', 'usual', 'gel', 'like', 'texture', 'read', 'ingredients', 'saw', 'added', 'tuna', 'oil', 'today', 'learned', 'another', 'favorites', 'gerber', 'organic', 'carrots', 'dha', 'added', 'frustrated', 'looks', 'like', 'making', 'baby', 'food']\n",
      "disappointed gerber added dha green beans son used love gerber organic green beans unwittingly tried feeding new formulation added dha kept refusing notice consistency different usual gel like texture read ingredients saw added tuna oil today learned another favorites gerber organic carrots dha added frustrated looks like making baby food\n",
      "*****************************************************************\n",
      "['become', 'favorite', 'stash', 'tea', 'liked', 'earl', 'grey', 'double', 'bergamot', 'earl', 'grey', 'twice', 'good', 'whether', 'not', 'tastes', 'like', 'areal', 'earl', 'grey', 'say', 'little', 'different', 'like', 'earl', 'grey', 'definitely', 'worth', 'try']\n",
      "number of words that occured minimum 5 times  15733\n",
      "sample words  ['excited', 'gum', 'not', 'artificial', 'sweeteners', 'bought', 'two', 'boxes', 'glee', 'peppermint', 'triple', 'berry', 'arrived', 'tore', 'open', 'box', 'popped', 'pieces', 'disappointment', 'began', 'minutes', 'later', 'flavor', 'quickly', 'dissipated', 'took', 'couple', 'returned', 'disappointed', 'went', 'away', 'money', 'better', 'spent', 'sucking', 'lollipops', 'eating', 'found', 'cinnamon', 'never', 'ending', 'calories', 'try', 'keep', 'great', 'product', 'definitely', 'buy', 'looking', 'contained']\n"
     ]
    }
   ],
   "source": [
    "# Word2Vec model for train/test and cv dataset\n",
    "i=0\n",
    "list_of_sent=[]\n",
    "for sent in X_train['CleanedText'].values:\n",
    "    list_of_sent.append(sent.split())\n",
    "print(X_tr['CleanedText'].values[0])\n",
    "    \n",
    "print(\"*****************************************************************\")\n",
    "print(list_of_sent[0])\n",
    "\n",
    "# Word2Vec model for test\n",
    "i=0\n",
    "list_of_sent_test=[]\n",
    "for sent in X_test['CleanedText'].values:\n",
    "    list_of_sent_test.append(sent.split())\n",
    "print(X_test['CleanedText'].values[0])\n",
    "print(\"*****************************************************************\")\n",
    "print(list_of_sent_test[0])\n",
    "\n",
    "# Word2Vec model for CV\n",
    "i=0\n",
    "list_of_sent_cv=[]\n",
    "for sent in X_cv['CleanedText'].values:\n",
    "    list_of_sent_cv.append(sent.split())\n",
    "print(X_test['CleanedText'].values[0])\n",
    "print(\"*****************************************************************\")\n",
    "print(list_of_sent_cv[0])\n",
    "\n",
    "w2v_model_train=Word2Vec(list_of_sent,min_count=5,size=50, workers=5)\n",
    "w2v_model_test=Word2Vec(list_of_sent_test,min_count=5,size=50, workers=5)\n",
    "w2v_words = list(w2v_model_train.wv.vocab)\n",
    "print(\"number of words that occured minimum 5 times \",len(w2v_words))\n",
    "print(\"sample words \", w2v_words[0:50])\n"
   ]
  },
  {
   "cell_type": "code",
   "execution_count": 125,
   "metadata": {
    "colab": {},
    "colab_type": "code",
    "id": "8ddGZNUfLPog",
    "outputId": "390d4ccb-cda2-4391-83e9-0e502b578171",
    "scrolled": true
   },
   "outputs": [
    {
     "name": "stdout",
     "output_type": "stream",
     "text": [
      "[('fantastic', 0.8497572541236877), ('awesome', 0.8415793180465698), ('good', 0.8220787644386292), ('terrific', 0.8089662194252014), ('excellent', 0.793988823890686), ('wonderful', 0.7904127836227417), ('perfect', 0.7855398654937744), ('amazing', 0.7499324083328247), ('nice', 0.712704598903656), ('fabulous', 0.6920047402381897)]\n",
      "==================================================\n",
      "[('greatest', 0.8216128945350647), ('best', 0.7184992432594299), ('nastiest', 0.7126660346984863), ('tastiest', 0.7060397267341614), ('coolest', 0.6580905914306641), ('closest', 0.6341551542282104), ('disgusting', 0.618719756603241), ('experienced', 0.6100812554359436), ('horrible', 0.598488450050354), ('cry', 0.5878204107284546)]\n"
     ]
    }
   ],
   "source": [
    "# Using Google News Word2Vectors\n",
    "\n",
    "# in this project we are using a pretrained model by google\n",
    "# its 3.3G file, once you load this into your memory \n",
    "# it occupies ~9Gb, so please do this step only if you have >12G of ram\n",
    "# we will provide a pickle file wich contains a dict , \n",
    "# and it contains all our courpus words as keys and  model[word] as values\n",
    "# To use this code-snippet, download \"GoogleNews-vectors-negative300.bin\" \n",
    "# from https://drive.google.com/file/d/0B7XkCwpI5KDYNlNUTTlSS21pQmM/edit\n",
    "# it's 1.9GB in size.\n",
    "\n",
    "\n",
    "# http://kavita-ganesan.com/gensim-word2vec-tutorial-starter-code/#.W17SRFAzZPY\n",
    "# you can comment this whole cell\n",
    "# or change these varible according to your need\n",
    "\n",
    "is_your_ram_gt_16g=False\n",
    "want_to_use_google_w2v = False\n",
    "want_to_train_w2v = True\n",
    "\n",
    "if want_to_train_w2v:\n",
    "    # min_count = 5 considers only words that occured atleast 5 times\n",
    "    w2v_model=Word2Vec(list_of_sentance,min_count=5,size=50, workers=4)\n",
    "    print(w2v_model.wv.most_similar('great'))\n",
    "    print('='*50)\n",
    "    print(w2v_model.wv.most_similar('worst'))\n",
    "    \n",
    "elif want_to_use_google_w2v and is_your_ram_gt_16g:\n",
    "    if os.path.isfile('GoogleNews-vectors-negative300.bin'):\n",
    "        w2v_model=KeyedVectors.load_word2vec_format('GoogleNews-vectors-negative300.bin', binary=True)\n",
    "        print(w2v_model.wv.most_similar('great'))\n",
    "        print(w2v_model.wv.most_similar('worst'))\n",
    "    else:\n",
    "        print(\"you don't have gogole's word2vec file, keep want_to_train_w2v = True, to train your own w2v \")"
   ]
  },
  {
   "cell_type": "code",
   "execution_count": 0,
   "metadata": {
    "colab": {},
    "colab_type": "code",
    "id": "bRWXmmnWLPoo",
    "outputId": "1cc345e7-d991-49b8-f1b7-a0d81f0b97e6"
   },
   "outputs": [
    {
     "name": "stdout",
     "output_type": "stream",
     "text": [
      "number of words that occured minimum 5 times  3817\n",
      "sample words  ['product', 'available', 'course', 'total', 'pretty', 'stinky', 'right', 'nearby', 'used', 'ca', 'not', 'beat', 'great', 'received', 'shipment', 'could', 'hardly', 'wait', 'try', 'love', 'call', 'instead', 'removed', 'easily', 'daughter', 'designed', 'printed', 'use', 'car', 'windows', 'beautifully', 'shop', 'program', 'going', 'lot', 'fun', 'everywhere', 'like', 'tv', 'computer', 'really', 'good', 'idea', 'final', 'outstanding', 'window', 'everybody', 'asks', 'bought', 'made']\n"
     ]
    }
   ],
   "source": [
    "w2v_words = list(w2v_model.wv.vocab)\n",
    "print(\"number of words that occured minimum 5 times \",len(w2v_words))\n",
    "print(\"sample words \", w2v_words[0:50])"
   ]
  },
  {
   "cell_type": "markdown",
   "metadata": {
    "colab_type": "text",
    "id": "TtWqibqfLPos"
   },
   "source": [
    "## [4.4.1] Converting text into vectors using Avg W2V, TFIDF-W2V"
   ]
  },
  {
   "cell_type": "markdown",
   "metadata": {
    "colab_type": "text",
    "id": "JriP5nZCLPot"
   },
   "source": [
    "#### [4.4.1.1] Avg W2v"
   ]
  },
  {
   "cell_type": "code",
   "execution_count": 0,
   "metadata": {
    "colab": {},
    "colab_type": "code",
    "id": "UnXI9NHTLPot",
    "outputId": "ecbe8256-9718-4bad-de33-e5ce1ee69038"
   },
   "outputs": [
    {
     "name": "stderr",
     "output_type": "stream",
     "text": [
      "100%|████████████████████████████████████████████████████████████████████████████| 4986/4986 [00:03<00:00, 1330.47it/s]\n"
     ]
    },
    {
     "name": "stdout",
     "output_type": "stream",
     "text": [
      "4986\n",
      "50\n"
     ]
    }
   ],
   "source": [
    "# average Word2Vec\n",
    "# compute average word2vec for each review.\n",
    "sent_vectors = []; # the avg-w2v for each sentence/review is stored in this list\n",
    "for sent in tqdm(list_of_sentance): # for each review/sentence\n",
    "    sent_vec = np.zeros(50) # as word vectors are of zero length 50, you might need to change this to 300 if you use google's w2v\n",
    "    cnt_words =0; # num of words with a valid vector in the sentence/review\n",
    "    for word in sent: # for each word in a review/sentence\n",
    "        if word in w2v_words:\n",
    "            vec = w2v_model.wv[word]\n",
    "            sent_vec += vec\n",
    "            cnt_words += 1\n",
    "    if cnt_words != 0:\n",
    "        sent_vec /= cnt_words\n",
    "    sent_vectors.append(sent_vec)\n",
    "print(len(sent_vectors))\n",
    "print(len(sent_vectors[0]))"
   ]
  },
  {
   "cell_type": "code",
   "execution_count": 129,
   "metadata": {},
   "outputs": [
    {
     "name": "stderr",
     "output_type": "stream",
     "text": [
      "100%|██████████| 70218/70218 [02:29<00:00, 469.41it/s]\n"
     ]
    },
    {
     "name": "stdout",
     "output_type": "stream",
     "text": [
      "70218\n",
      "50\n"
     ]
    },
    {
     "name": "stderr",
     "output_type": "stream",
     "text": [
      "100%|██████████| 17555/17555 [00:38<00:00, 461.20it/s]\n"
     ]
    },
    {
     "name": "stdout",
     "output_type": "stream",
     "text": [
      "17555\n",
      "50\n"
     ]
    }
   ],
   "source": [
    "# average Word2Vec\n",
    "# compute average word2vec for each review.\n",
    "sent_vectors = []; # the avg-w2v for each sentence/review is stored in this list\n",
    "for sent in tqdm(list_of_sent): # for each review/sentence\n",
    "    sent_vec = np.zeros(50) # as word vectors are of zero length 50, you might need to change this to 300 if you use google's w2v\n",
    "    cnt_words =0; # num of words with a valid vector in the sentence/review\n",
    "    for word in sent: # for each word in a review/sentence\n",
    "        if word in w2v_words:\n",
    "            vec = w2v_model_train.wv[word]\n",
    "            sent_vec += vec\n",
    "            cnt_words += 1\n",
    "    if cnt_words != 0:\n",
    "        sent_vec /= cnt_words\n",
    "    sent_vectors.append(sent_vec)\n",
    "print(len(sent_vectors))\n",
    "print(len(sent_vectors[0]))\n",
    "\n",
    "\n",
    "\n",
    "sent_vectors_test = []; # the avg-w2v for each sentence/review is stored in this list\n",
    "for sent in tqdm(list_of_sent_test): # for each review/sentence\n",
    "    sent_vec = np.zeros(50) # as word vectors are of zero length 50, you might need to change this to 300 if you use google's w2v\n",
    "    cnt_words =0; # num of words with a valid vector in the sentence/review\n",
    "    for word in sent: # for each word in a review/sentence\n",
    "        if word in w2v_words:\n",
    "            vec = w2v_model_train.wv[word]\n",
    "            sent_vec += vec\n",
    "            cnt_words += 1\n",
    "    if cnt_words != 0:\n",
    "        sent_vec /= cnt_words\n",
    "    sent_vectors_test.append(sent_vec)\n",
    "print(len(sent_vectors_test))\n",
    "print(len(sent_vectors_test[0]))\n",
    "\n",
    "\n"
   ]
  },
  {
   "cell_type": "code",
   "execution_count": 154,
   "metadata": {},
   "outputs": [
    {
     "name": "stderr",
     "output_type": "stream",
     "text": [
      "100%|██████████| 14044/14044 [00:33<00:00, 420.09it/s]\n"
     ]
    },
    {
     "name": "stdout",
     "output_type": "stream",
     "text": [
      "14044\n",
      "50\n"
     ]
    }
   ],
   "source": [
    "sent_vectors_cv = []; # the avg-w2v for each sentence/review is stored in this list\n",
    "for sent in tqdm(list_of_sent_cv): # for each review/sentence\n",
    "    sent_vec = np.zeros(50) # as word vectors are of zero length 50, you might need to change this to 300 if you use google's w2v\n",
    "    cnt_words =0; # num of words with a valid vector in the sentence/review\n",
    "    for word in sent: # for each word in a review/sentence\n",
    "        if word in w2v_words:\n",
    "            vec = w2v_model_train.wv[word]\n",
    "            sent_vec += vec\n",
    "            cnt_words += 1\n",
    "    if cnt_words != 0:\n",
    "        sent_vec /= cnt_words\n",
    "    sent_vectors_cv.append(sent_vec)\n",
    "print(len(sent_vectors_cv))\n",
    "print(len(sent_vectors_cv[0]))"
   ]
  },
  {
   "cell_type": "markdown",
   "metadata": {
    "colab_type": "text",
    "id": "2sHfb529LPow"
   },
   "source": [
    "#### [4.4.1.2] TFIDF weighted W2v"
   ]
  },
  {
   "cell_type": "code",
   "execution_count": 130,
   "metadata": {
    "colab": {},
    "colab_type": "code",
    "id": "sb_wDjAqLPow"
   },
   "outputs": [],
   "source": [
    "# S = [\"abc def pqr\", \"def def def abc\", \"pqr pqr def\"]\n",
    "model = TfidfVectorizer()\n",
    "tf_idf_matrix = model.fit_transform(X_train['CleanedText'].values)\n",
    "# we are converting a dictionary with word as a key, and the idf as a value\n",
    "dictionary = dict(zip(model.get_feature_names(), list(model.idf_)))"
   ]
  },
  {
   "cell_type": "code",
   "execution_count": 131,
   "metadata": {
    "colab": {},
    "colab_type": "code",
    "id": "3VrUzqx7LPoy",
    "outputId": "8480d5da-7b1d-4bbe-a4c9-fe0a5800b5d0",
    "scrolled": true
   },
   "outputs": [
    {
     "name": "stderr",
     "output_type": "stream",
     "text": [
      "100%|██████████| 70218/70218 [52:31<00:00, 22.28it/s]  \n",
      "100%|██████████| 17555/17555 [13:54<00:00, 21.03it/s]\n"
     ]
    }
   ],
   "source": [
    "# TF-IDF weighted Word2Vec\n",
    "tfidf_feat = model.get_feature_names() # tfidf words/col-names\n",
    "# final_tf_idf is the sparse matrix with row= sentence, col=word and cell_val = tfidf\n",
    "\n",
    "tfidf_sent_vectors = []; # the tfidf-w2v for each sentence/review is stored in this list\n",
    "row=0;\n",
    "for sent in tqdm(list_of_sent): # for each review/sentence \n",
    "    sent_vec = np.zeros(50) # as word vectors are of zero length\n",
    "    weight_sum =0; # num of words with a valid vector in the sentence/review\n",
    "    for word in sent: # for each word in a review/sentence\n",
    "        if word in w2v_words and word in tfidf_feat:\n",
    "            vec = w2v_model_train.wv[word]\n",
    "#             tf_idf = tf_idf_matrix[row, tfidf_feat.index(word)]\n",
    "            # to reduce the computation we are \n",
    "            # dictionary[word] = idf value of word in whole courpus\n",
    "            # sent.count(word) = tf valeus of word in this review\n",
    "            tf_idf = dictionary[word]*(sent.count(word)/len(sent))\n",
    "            sent_vec += (vec * tf_idf)\n",
    "            weight_sum += tf_idf\n",
    "    if weight_sum != 0:\n",
    "        sent_vec /= weight_sum\n",
    "    tfidf_sent_vectors.append(sent_vec)\n",
    "    row += 1\n",
    "    \n",
    "\n",
    "# TF-IDF weighted Word2Vec\n",
    "tfidf_feat = model.get_feature_names() # tfidf words/col-names\n",
    "# final_tf_idf is the sparse matrix with row= sentence, col=word and cell_val = tfidf\n",
    "\n",
    "tfidf_sent_vectors_test = []; # the tfidf-w2v for each sentence/review is stored in this list\n",
    "row=0;\n",
    "for sent in tqdm(list_of_sent_test): # for each review/sentence \n",
    "    sent_vec = np.zeros(50) # as word vectors are of zero length\n",
    "    weight_sum =0; # num of words with a valid vector in the sentence/review\n",
    "    for word in sent: # for each word in a review/sentence\n",
    "        if word in w2v_words and word in tfidf_feat:\n",
    "            vec = w2v_model_train.wv[word]\n",
    "#             tf_idf = tf_idf_matrix[row, tfidf_feat.index(word)]\n",
    "            # to reduce the computation we are \n",
    "            # dictionary[word] = idf value of word in whole courpus\n",
    "            # sent.count(word) = tf valeus of word in this review\n",
    "            tf_idf = dictionary[word]*(sent.count(word)/len(sent))\n",
    "            sent_vec += (vec * tf_idf)\n",
    "            weight_sum += tf_idf\n",
    "    if weight_sum != 0:\n",
    "        sent_vec /= weight_sum\n",
    "    tfidf_sent_vectors_test.append(sent_vec)\n",
    "    row += 1"
   ]
  },
  {
   "cell_type": "code",
   "execution_count": 155,
   "metadata": {},
   "outputs": [
    {
     "name": "stderr",
     "output_type": "stream",
     "text": [
      "100%|██████████| 14044/14044 [10:15<00:00, 22.83it/s]\n"
     ]
    }
   ],
   "source": [
    "# TF-IDF weighted Word2Vec\n",
    "tfidf_feat = model.get_feature_names() # tfidf words/col-names\n",
    "# final_tf_idf is the sparse matrix with row= sentence, col=word and cell_val = tfidf\n",
    "\n",
    "tfidf_sent_vectors_cv = []; # the tfidf-w2v for each sentence/review is stored in this list\n",
    "row=0;\n",
    "for sent in tqdm(list_of_sent_cv): # for each review/sentence \n",
    "    sent_vec = np.zeros(50) # as word vectors are of zero length\n",
    "    weight_sum =0; # num of words with a valid vector in the sentence/review\n",
    "    for word in sent: # for each word in a review/sentence\n",
    "        if word in w2v_words and word in tfidf_feat:\n",
    "            vec = w2v_model_train.wv[word]\n",
    "#             tf_idf = tf_idf_matrix[row, tfidf_feat.index(word)]\n",
    "            # to reduce the computation we are \n",
    "            # dictionary[word] = idf value of word in whole courpus\n",
    "            # sent.count(word) = tf valeus of word in this review\n",
    "            tf_idf = dictionary[word]*(sent.count(word)/len(sent))\n",
    "            sent_vec += (vec * tf_idf)\n",
    "            weight_sum += tf_idf\n",
    "    if weight_sum != 0:\n",
    "        sent_vec /= weight_sum\n",
    "    tfidf_sent_vectors_cv.append(sent_vec)\n",
    "    row += 1"
   ]
  },
  {
   "cell_type": "markdown",
   "metadata": {
    "colab_type": "text",
    "id": "Kxx72u1hLPo1"
   },
   "source": [
    "# [5] Assignment 5: Apply Logistic Regression"
   ]
  },
  {
   "cell_type": "markdown",
   "metadata": {
    "colab_type": "text",
    "id": "KDR9We0oLPo2"
   },
   "source": [
    "<ol>\n",
    "    <li><strong>Apply Logistic Regression on these feature sets</strong>\n",
    "        <ul>\n",
    "            <li><font color='red'>SET 1:</font>Review text, preprocessed one converted into vectors using (BOW)</li>\n",
    "            <li><font color='red'>SET 2:</font>Review text, preprocessed one converted into vectors using (TFIDF)</li>\n",
    "            <li><font color='red'>SET 3:</font>Review text, preprocessed one converted into vectors using (AVG W2v)</li>\n",
    "            <li><font color='red'>SET 4:</font>Review text, preprocessed one converted into vectors using (TFIDF W2v)</li>\n",
    "        </ul>\n",
    "    </li>\n",
    "    <br>\n",
    "    <li><strong>Hyper paramter tuning (find best hyper parameters corresponding the algorithm that you choose)</strong>\n",
    "        <ul>\n",
    "    <li>Find the best hyper parameter which will give the maximum <a href='https://www.appliedaicourse.com/course/applied-ai-course-online/lessons/receiver-operating-characteristic-curve-roc-curve-and-auc-1/'>AUC</a> value</li>\n",
    "    <li>Find the best hyper paramter using k-fold cross validation or simple cross validation data</li>\n",
    "    <li>Use gridsearch cv or randomsearch cv or you can also write your own for loops to do this task of hyperparameter tuning</li>          \n",
    "        </ul>\n",
    "    </li>\n",
    "    <br>\n",
    "    <li><strong>Pertubation Test</strong>\n",
    "        <ul>\n",
    "    <li>Get the weights W after fit your model with the data X i.e Train data.</li>\n",
    "    <li>Add a noise to the X (X' = X + e) and get the new data set X' (if X is a sparse\n",
    "matrix, X.data+=e)</li>\n",
    "    <li>Fit the model again on data X' and get the weights W'</li>\n",
    "    <li>Add a small eps value(to eliminate the divisible by zero error) to W and W’ i.e\n",
    "W=W+10^-6 and W’ = W’+10^-6</li>\n",
    "    <li>Now find the % change between W and W' (| (W-W') / (W) |)*100)</li>\n",
    "    <li>Calculate the 0th, 10th, 20th, 30th, ...100th percentiles, and observe any sudden rise in the values of percentage_change_vector</li>\n",
    "    <li> Ex: consider your 99th percentile is 1.3 and your 100th percentiles are 34.6, there is sudden rise from 1.3 to 34.6, now calculate the 99.1, 99.2, 99.3,..., 100th percentile values and get the proper value after which there is sudden rise the values, assume it is 2.5</li>\n",
    "            <li> Print the feature names whose % change is more than a threshold x(in our example it's 2.5)</li>\n",
    "        </ul>\n",
    "    </li>\n",
    "    <br>\n",
    "    <li><strong>Sparsity</strong>\n",
    "        <ul>\n",
    "    <li>Calculate sparsity on weight vector obtained after using L1 regularization</li>\n",
    "        </ul>\n",
    "    </li>\n",
    "    <br><font color='red'>NOTE: Do sparsity and multicollinearity for any one of the vectorizers. Bow or tf-idf is recommended.</font>\n",
    "    <br>\n",
    "    <br>\n",
    "    <li><strong>Feature importance</strong>\n",
    "        <ul>\n",
    "    <li>Get top 10 important features for both positive and negative classes separately.</li>\n",
    "        </ul>\n",
    "    </li>\n",
    "    <br>\n",
    "    <li><strong>Feature engineering</strong>\n",
    "        <ul>\n",
    "    <li>To increase the performance of your model, you can also experiment with with feature engineering like :</li>\n",
    "            <ul>\n",
    "            <li>Taking length of reviews as another feature.</li>\n",
    "            <li>Considering some features from review summary as well.</li>\n",
    "        </ul>\n",
    "        </ul>\n",
    "    </li>\n",
    "    <br>\n",
    "    <li><strong>Representation of results</strong>\n",
    "        <ul>\n",
    "    <li>You need to plot the performance of model both on train data and cross validation data for each hyper parameter, like shown in the figure.\n",
    "    <img src='train_cv_auc.JPG' width=300px></li>\n",
    "    <li>Once after you found the best hyper parameter, you need to train your model with it, and find the AUC on test data and plot the ROC curve on both train and test.\n",
    "    <img src='train_test_auc.JPG' width=300px></li>\n",
    "    <li>Along with plotting ROC curve, you need to print the <a href='https://www.appliedaicourse.com/course/applied-ai-course-online/lessons/confusion-matrix-tpr-fpr-fnr-tnr-1/'>confusion matrix</a> with predicted and original labels of test data points. Please visualize your confusion matrices using <a href='https://seaborn.pydata.org/generated/seaborn.heatmap.html'>seaborn heatmaps.\n",
    "    <img src='confusion_matrix.png' width=300px></li>\n",
    "        </ul>\n",
    "    </li>\n",
    "    <br>\n",
    "    <li><strong>Conclusion</strong>\n",
    "        <ul>\n",
    "    <li>You need to summarize the results at the end of the notebook, summarize it in the table format. To print out a table please refer to this prettytable library<a href='http://zetcode.com/python/prettytable/'>  link</a> \n",
    "        <img src='summary.JPG' width=400px>\n",
    "    </li>\n",
    "        </ul>\n",
    "</ol>"
   ]
  },
  {
   "cell_type": "markdown",
   "metadata": {
    "colab_type": "text",
    "id": "gilb-DOVLPo2"
   },
   "source": [
    "<h4><font color='red'>Note: Data Leakage</font></h4>\n",
    "\n",
    "1. There will be an issue of data-leakage if you vectorize the entire data and then split it into train/cv/test.\n",
    "2. To avoid the issue of data-leakag, make sure to split your data first and then vectorize it. \n",
    "3. While vectorizing your data, apply the method fit_transform() on you train data, and apply the method transform() on cv/test data.\n",
    "4. For more details please go through this <a href='https://soundcloud.com/applied-ai-course/leakage-bow-and-tfidf'>link.</a>"
   ]
  },
  {
   "cell_type": "markdown",
   "metadata": {
    "colab_type": "text",
    "id": "jiYocvSHLPo4"
   },
   "source": [
    "# Applying Logistic Regression"
   ]
  },
  {
   "cell_type": "markdown",
   "metadata": {},
   "source": [
    "##Splitting into train and test dataset"
   ]
  },
  {
   "cell_type": "code",
   "execution_count": 24,
   "metadata": {},
   "outputs": [
    {
     "name": "stdout",
     "output_type": "stream",
     "text": [
      "(70218, 11) (70218,)\n",
      "(17555, 11) (17555,)\n",
      "(56174, 11) (56174,)\n",
      "(14044, 11) (14044,)\n"
     ]
    }
   ],
   "source": [
    "from sklearn.model_selection import train_test_split\n",
    "from sklearn.neighbors import KNeighborsClassifier\n",
    "from sklearn.metrics import accuracy_score\n",
    "from sklearn.model_selection import cross_val_score\n",
    "from collections import Counter\n",
    "from sklearn.metrics import accuracy_score\n",
    "from sklearn import model_selection\n",
    "\n",
    "#X_train, X_test= np.split(final, [int(0.80 *len(final))])\n",
    "X_train, X_test, y_train, y_test = train_test_split(final, y, test_size=0.2, shuffle=False)\n",
    "#y_train = X_train['Score']\n",
    "#y_test = X_test['Score']\n",
    "print(X_train.shape, y_train.shape)\n",
    "print(X_test.shape, y_test.shape)\n",
    "\n",
    "#Splitting train data into train and cv(60:20)\n",
    "X_tr, X_cv, y_tr, y_cv = train_test_split(X_train, y_train, test_size=0.2, shuffle=False)\n",
    "print(X_tr.shape, y_tr.shape)\n",
    "print(X_cv.shape, y_cv.shape)\n"
   ]
  },
  {
   "cell_type": "code",
   "execution_count": 27,
   "metadata": {},
   "outputs": [
    {
     "name": "stdout",
     "output_type": "stream",
     "text": [
      "(17555, 49066)\n",
      "(14044, 49066)\n",
      "(56174, 49066)\n"
     ]
    }
   ],
   "source": [
    "#Applying BoW\n",
    "count_vect = CountVectorizer()\n",
    "count_vect.fit(X_train['CleanedText'])\n",
    "train_bow = count_vect.transform(X_tr['CleanedText'])\n",
    "cv_bow = count_vect.transform(X_cv['CleanedText'])\n",
    "test_bow = count_vect.transform(X_test['CleanedText'])\n",
    "print(test_bow.shape)\n",
    "print(cv_bow.shape)\n",
    "print(train_bow.shape)"
   ]
  },
  {
   "cell_type": "markdown",
   "metadata": {
    "colab_type": "text",
    "id": "LE_XPVZJLPo4"
   },
   "source": [
    "## [5.1] Logistic Regression on BOW,<font color='red'> SET 1</font>"
   ]
  },
  {
   "cell_type": "markdown",
   "metadata": {
    "colab_type": "text",
    "id": "_iciJvj2LPo4"
   },
   "source": [
    "### [5.1.1] Applying Logistic Regression with L1 regularization on BOW,<font color='red'> SET 1</font>"
   ]
  },
  {
   "cell_type": "code",
   "execution_count": 28,
   "metadata": {
    "colab": {},
    "colab_type": "code",
    "id": "MyOVi-xYLPo5"
   },
   "outputs": [
    {
     "name": "stderr",
     "output_type": "stream",
     "text": [
      "C:\\Users\\Dell\\AppData\\Roaming\\Python\\Python36\\site-packages\\sklearn\\svm\\base.py:929: ConvergenceWarning: Liblinear failed to converge, increase the number of iterations.\n",
      "  \"the number of iterations.\", ConvergenceWarning)\n",
      "C:\\Users\\Dell\\AppData\\Roaming\\Python\\Python36\\site-packages\\sklearn\\svm\\base.py:929: ConvergenceWarning: Liblinear failed to converge, increase the number of iterations.\n",
      "  \"the number of iterations.\", ConvergenceWarning)\n",
      "C:\\Users\\Dell\\AppData\\Roaming\\Python\\Python36\\site-packages\\sklearn\\svm\\base.py:929: ConvergenceWarning: Liblinear failed to converge, increase the number of iterations.\n",
      "  \"the number of iterations.\", ConvergenceWarning)\n",
      "C:\\Users\\Dell\\AppData\\Roaming\\Python\\Python36\\site-packages\\sklearn\\svm\\base.py:929: ConvergenceWarning: Liblinear failed to converge, increase the number of iterations.\n",
      "  \"the number of iterations.\", ConvergenceWarning)\n",
      "C:\\Users\\Dell\\AppData\\Roaming\\Python\\Python36\\site-packages\\sklearn\\svm\\base.py:929: ConvergenceWarning: Liblinear failed to converge, increase the number of iterations.\n",
      "  \"the number of iterations.\", ConvergenceWarning)\n",
      "C:\\Users\\Dell\\AppData\\Roaming\\Python\\Python36\\site-packages\\sklearn\\svm\\base.py:929: ConvergenceWarning: Liblinear failed to converge, increase the number of iterations.\n",
      "  \"the number of iterations.\", ConvergenceWarning)\n",
      "C:\\Users\\Dell\\AppData\\Roaming\\Python\\Python36\\site-packages\\sklearn\\svm\\base.py:929: ConvergenceWarning: Liblinear failed to converge, increase the number of iterations.\n",
      "  \"the number of iterations.\", ConvergenceWarning)\n"
     ]
    },
    {
     "name": "stdout",
     "output_type": "stream",
     "text": [
      "GridSearchCV(cv='warn', error_score='raise-deprecating',\n",
      "             estimator=LogisticRegression(C=1.0, class_weight='balanced',\n",
      "                                          dual=False, fit_intercept=True,\n",
      "                                          intercept_scaling=1, l1_ratio=None,\n",
      "                                          max_iter=100, multi_class='warn',\n",
      "                                          n_jobs=None, penalty='l2',\n",
      "                                          random_state=None, solver='warn',\n",
      "                                          tol=0.0001, verbose=0,\n",
      "                                          warm_start=False),\n",
      "             iid='warn', n_jobs=None,\n",
      "             param_grid=[{'C': [1e-05, 0.0001, 0.001, 0.01, 1, 10, 100, 1000,\n",
      "                                10000]}],\n",
      "             pre_dispatch='2*n_jobs', refit='AUC', return_train_score=False,\n",
      "             scoring={'AUC': 'roc_auc', 'Accuracy': 'accuracy'}, verbose=0)\n",
      "0.9265321931582181\n",
      "LogisticRegression(C=0.01, class_weight='balanced', dual=False,\n",
      "                   fit_intercept=True, intercept_scaling=1, l1_ratio=None,\n",
      "                   max_iter=100, multi_class='warn', n_jobs=None, penalty='l2',\n",
      "                   random_state=None, solver='warn', tol=0.0001, verbose=0,\n",
      "                   warm_start=False)\n",
      "0.9362469080203264\n"
     ]
    }
   ],
   "source": [
    "#https://machinelearningmastery.com/how-to-tune-algorithm-parameters-with-scikit-learn/\n",
    "#Applying GridSearch to find the best hyperparameter C\n",
    "\n",
    "tuned_parameter = [{'C': [0.00001, 0.0001, 0.001, 0.01, 1, 10, 100, 1000, 10000]}]\n",
    "from sklearn.model_selection import GridSearchCV\n",
    "from sklearn.linear_model import LogisticRegression\n",
    "clf = LogisticRegression(class_weight='balanced')\n",
    "scoring = {'AUC': 'roc_auc', 'Accuracy': 'accuracy'}\n",
    "grid = GridSearchCV(estimator=clf, param_grid = tuned_parameter ,scoring = scoring, refit = 'AUC')\n",
    "grid.fit(train_bow, y_tr)\n",
    "print(grid)\n",
    "# summarize the results of the grid search\n",
    "print(grid.best_score_)\n",
    "print(grid.best_estimator_)\n",
    "print(grid.score(cv_bow,y_cv))\n",
    "results = grid.cv_results_\n",
    "#print(results)\n",
    "#print(grid.confusion_matrix)"
   ]
  },
  {
   "cell_type": "markdown",
   "metadata": {
    "colab_type": "text",
    "id": "5h4NhywcLPo7"
   },
   "source": [
    "#### [5.1.1.1] Calculating sparsity on weight vector obtained using L1 regularization on BOW,<font color='red'> SET 1</font>"
   ]
  },
  {
   "cell_type": "code",
   "execution_count": 32,
   "metadata": {
    "colab": {},
    "colab_type": "code",
    "id": "-mmdLzUALPo-"
   },
   "outputs": [
    {
     "name": "stdout",
     "output_type": "stream",
     "text": [
      "Sparsity: 177\n",
      "Area under the ROC curve : %f 0.8975796016723576\n",
      "[[2164  436]\n",
      " [2226 9218]]\n"
     ]
    },
    {
     "data": {
      "text/plain": [
       "Text(0.5, 15.0, 'Predicted label')"
      ]
     },
     "execution_count": 32,
     "metadata": {},
     "output_type": "execute_result"
    },
    {
     "data": {
      "image/png": "[encoded data removed]",
      "text/plain": [
       "<Figure size 432x288 with 2 Axes>"
      ]
     },
     "metadata": {
      "needs_background": "light"
     },
     "output_type": "display_data"
    }
   ],
   "source": [
    "# Please write all the code with proper documentation\n",
    "\n",
    "clf = LogisticRegression(C=0.01, penalty ='l1',class_weight='balanced');\n",
    "cclf=clf.fit(train_bow, y_tr).predict(cv_bow)\n",
    "w = clf.coef_\n",
    "print(\"Sparsity:\",np.count_nonzero(w))\n",
    "\n",
    "#cclf=clf.fit(train_bow, y_tr).predict(cv_bow)\n",
    "pred_cv = clf.predict_proba(cv_bow)[:,1]\n",
    "fpr, tpr, thresholds = roc_curve(y_cv,pred_cv)\n",
    "roc_auc_cv = auc(fpr, tpr)\n",
    "print('Area under the ROC curve : %f', + roc_auc_cv)\n",
    "#Plotting confusion matrix\n",
    "import seaborn as sns\n",
    "conf_mat = confusion_matrix(y_cv, cclf)\n",
    "print(conf_mat)\n",
    "#conf_normalized = conf_mat.astype('int') / conf_mat.sum(axis=1)[:, np.newaxis]\n",
    "sns.heatmap(conf_mat, annot=True, fmt ='g')\n",
    "plt.title('Confusion matrix for cv data')\n",
    "plt.ylabel('True label')\n",
    "plt.xlabel('Predicted label')\n",
    "\n",
    "#clf = LogisticRegression(C=0.1, penalty ='l1');\n",
    "#clf.fit(train_bow, y_tr)\n",
    "#w = clf.coef_\n",
    "#print(np.count_nonzero(w))\n"
   ]
  },
  {
   "cell_type": "code",
   "execution_count": 33,
   "metadata": {},
   "outputs": [
    {
     "name": "stdout",
     "output_type": "stream",
     "text": [
      "Sparsity: 177\n",
      "Area under the ROC curve : %f 0.9004300872674412\n",
      "[[ 2438   474]\n",
      " [ 2712 11931]]\n"
     ]
    },
    {
     "data": {
      "text/plain": [
       "Text(0, 0.5, 'False Positive Rate')"
      ]
     },
     "execution_count": 33,
     "metadata": {},
     "output_type": "execute_result"
    },
    {
     "data": {
      "image/png": "[encoded data removed]",
      "text/plain": [
       "<Figure size 432x288 with 2 Axes>"
      ]
     },
     "metadata": {
      "needs_background": "light"
     },
     "output_type": "display_data"
    },
    {
     "data": {
      "image/png": "[encoded data removed]",
      "text/plain": [
       "<Figure size 432x288 with 1 Axes>"
      ]
     },
     "metadata": {
      "needs_background": "light"
     },
     "output_type": "display_data"
    }
   ],
   "source": [
    "#predicting test data\n",
    "cclf=clf.fit(train_bow, y_tr).predict(test_bow)\n",
    "w = clf.coef_\n",
    "print(\"Sparsity:\",np.count_nonzero(w))\n",
    "\n",
    "#cclf=clf.fit(train_bow, y_tr).predict(cv_bow)\n",
    "pred_test = clf.predict_proba(test_bow)[:,1]\n",
    "fpr, tpr, thresholds = roc_curve(y_test,pred_test)\n",
    "roc_auc_test = auc(fpr, tpr)\n",
    "print('Area under the ROC curve : %f', + roc_auc_test)\n",
    "#Plotting confusion matrix\n",
    "import seaborn as sns\n",
    "conf_mat = confusion_matrix(y_test, cclf)\n",
    "print(conf_mat)\n",
    "#conf_normalized = conf_mat.astype('int') / conf_mat.sum(axis=1)[:, np.newaxis]\n",
    "sns.heatmap(conf_mat, annot=True, fmt ='g')\n",
    "plt.title('Confusion matrix for test data')\n",
    "plt.ylabel('True label')\n",
    "plt.xlabel('Predicted label')\n",
    "\n",
    "\n",
    "#Plot ROC Curve\n",
    "plt.figure(0).clf()\n",
    "fpr, tpr, thresholds = roc_curve(y_test,pred_test)\n",
    "roc_auc_test = auc(fpr, tpr)\n",
    "plt.plot(fpr,tpr,label=\"Test Data, auc=\"+str(roc_auc_test))\n",
    "fpr, tpr, thresh = roc_curve(y_cv, pred_cv)\n",
    "roc_auc_cv = auc(fpr, tpr)\n",
    "plt.plot(fpr,tpr,label=\"Train Data, auc=\"+str(roc_auc_cv))\n",
    "plt.title('ROC curve for Train and Test Dataset - BOW')\n",
    "plt.xlabel('True Positive Rate')\n",
    "plt.ylabel('False Positive Rate')"
   ]
  },
  {
   "cell_type": "markdown",
   "metadata": {
    "colab_type": "text",
    "id": "aRHMa52qLPpA"
   },
   "source": [
    "### [5.1.2] Applying Logistic Regression with L2 regularization on BOW,<font color='red'> SET 1</font>"
   ]
  },
  {
   "cell_type": "code",
   "execution_count": 34,
   "metadata": {
    "colab": {},
    "colab_type": "code",
    "id": "GBbb9lxlLPpB"
   },
   "outputs": [
    {
     "name": "stdout",
     "output_type": "stream",
     "text": [
      "Sparsity: 177\n",
      "Area under the ROC curve : %f 0.9362469080203264\n",
      "[[2266  334]\n",
      " [1505 9939]]\n"
     ]
    },
    {
     "data": {
      "text/plain": [
       "Text(0.5, 15.0, 'Predicted label')"
      ]
     },
     "execution_count": 34,
     "metadata": {},
     "output_type": "execute_result"
    },
    {
     "data": {
      "image/png": "[encoded data removed]",
      "text/plain": [
       "<Figure size 432x288 with 2 Axes>"
      ]
     },
     "metadata": {
      "needs_background": "light"
     },
     "output_type": "display_data"
    }
   ],
   "source": [
    "# Please write all the code with proper documentation\n",
    "\n",
    "clf = LogisticRegression(C=0.01, penalty ='l2',class_weight='balanced');\n",
    "cclf=clf.fit(train_bow, y_tr).predict(cv_bow)\n",
    "W = clf.coef_\n",
    "print(\"Sparsity:\",np.count_nonzero(w))\n",
    "\n",
    "#cclf=clf.fit(train_bow, y_tr).predict(cv_bow)\n",
    "pred_cv = clf.predict_proba(cv_bow)[:,1]\n",
    "fpr, tpr, thresholds = roc_curve(y_cv,pred_cv)\n",
    "roc_auc_cv = auc(fpr, tpr)\n",
    "print('Area under the ROC curve : %f', + roc_auc_cv)\n",
    "#Plotting confusion matrix\n",
    "import seaborn as sns\n",
    "conf_mat = confusion_matrix(y_cv, cclf)\n",
    "print(conf_mat)\n",
    "#conf_normalized = conf_mat.astype('int') / conf_mat.sum(axis=1)[:, np.newaxis]\n",
    "sns.heatmap(conf_mat, annot=True, fmt ='g')\n",
    "plt.title('Confusion matrix for cv data')\n",
    "plt.ylabel('True label')\n",
    "plt.xlabel('Predicted label')\n",
    "\n",
    "#clf = LogisticRegression(C=0.1, penalty ='l1');\n",
    "#clf.fit(train_bow, y_tr)\n",
    "#w = clf.coef_\n",
    "#print(np.count_nonzero(w))\n"
   ]
  },
  {
   "cell_type": "code",
   "execution_count": 35,
   "metadata": {},
   "outputs": [
    {
     "name": "stdout",
     "output_type": "stream",
     "text": [
      "Sparsity: 177\n",
      "Area under the ROC curve : %f 0.9347828360773968\n",
      "[[ 2507   405]\n",
      " [ 1838 12805]]\n"
     ]
    },
    {
     "data": {
      "text/plain": [
       "Text(0, 0.5, 'False Positive Rate')"
      ]
     },
     "execution_count": 35,
     "metadata": {},
     "output_type": "execute_result"
    },
    {
     "data": {
      "image/png": "[encoded data removed]",
      "text/plain": [
       "<Figure size 432x288 with 2 Axes>"
      ]
     },
     "metadata": {
      "needs_background": "light"
     },
     "output_type": "display_data"
    },
    {
     "data": {
      "image/png": "[encoded data removed]",
      "text/plain": [
       "<Figure size 432x288 with 1 Axes>"
      ]
     },
     "metadata": {
      "needs_background": "light"
     },
     "output_type": "display_data"
    }
   ],
   "source": [
    "#predicting test data\n",
    "cclf=clf.fit(train_bow, y_tr).predict(test_bow)\n",
    "W = clf.coef_\n",
    "print(\"Sparsity:\",np.count_nonzero(w))\n",
    "\n",
    "#cclf=clf.fit(train_bow, y_tr).predict(cv_bow)\n",
    "pred_test = clf.predict_proba(test_bow)[:,1]\n",
    "fpr, tpr, thresholds = roc_curve(y_test,pred_test)\n",
    "roc_auc_test = auc(fpr, tpr)\n",
    "print('Area under the ROC curve : %f', + roc_auc_test)\n",
    "#Plotting confusion matrix\n",
    "import seaborn as sns\n",
    "conf_mat = confusion_matrix(y_test, cclf)\n",
    "print(conf_mat)\n",
    "#conf_normalized = conf_mat.astype('int') / conf_mat.sum(axis=1)[:, np.newaxis]\n",
    "sns.heatmap(conf_mat, annot=True, fmt ='g')\n",
    "plt.title('Confusion matrix for test data')\n",
    "plt.ylabel('True label')\n",
    "plt.xlabel('Predicted label')\n",
    "\n",
    "\n",
    "#Plot ROC Curve\n",
    "plt.figure(0).clf()\n",
    "fpr, tpr, thresholds = roc_curve(y_test,pred_test)\n",
    "roc_auc_test = auc(fpr, tpr)\n",
    "plt.plot(fpr,tpr,label=\"Test Data, auc=\"+str(roc_auc_test))\n",
    "fpr, tpr, thresh = roc_curve(y_cv, pred_cv)\n",
    "roc_auc_cv = auc(fpr, tpr)\n",
    "plt.plot(fpr,tpr,label=\"Train Data, auc=\"+str(roc_auc_cv))\n",
    "plt.title('ROC curve for Train and Test Dataset - BOW')\n",
    "plt.xlabel('True Positive Rate')\n",
    "plt.ylabel('False Positive Rate')"
   ]
  },
  {
   "cell_type": "markdown",
   "metadata": {
    "colab_type": "text",
    "id": "UaJkugTKLPpE"
   },
   "source": [
    "#### [5.1.2.1] Performing pertubation test (multicollinearity check) on BOW,<font color='red'> SET 1</font>"
   ]
  },
  {
   "cell_type": "code",
   "execution_count": 36,
   "metadata": {},
   "outputs": [],
   "source": [
    "def collinear_features_fun(vectorizer, w):\n",
    "    feature_names = vectorizer.get_feature_names()\n",
    "    topn_class = sorted(zip(w, feature_names), reverse=True)[:]\n",
    "    features_list = []\n",
    "    for coef, feat in topn_class:\n",
    "        if coef != 0.0 :\n",
    "            features_list.append(feat)\n",
    "    collinear_features = features_list;\n",
    "    return collinear_features;"
   ]
  },
  {
   "cell_type": "code",
   "execution_count": 73,
   "metadata": {
    "colab": {},
    "colab_type": "code",
    "id": "E1c5B1nELPpF"
   },
   "outputs": [
    {
     "name": "stdout",
     "output_type": "stream",
     "text": [
      "[[-0.11917375  0.          0.         ...  0.          0.\n",
      "   0.        ]]\n",
      "Sparsity with actual data 5306\n",
      "(56174, 49066)\n",
      "[[-0.11935698  0.          0.         ...  0.          0.\n",
      "   0.        ]]\n",
      "Sparsity with noise data 5301\n"
     ]
    }
   ],
   "source": [
    "Clf = LogisticRegression(C=1, penalty='l1',class_weight='balanced')\n",
    "Clf.fit(train_bow, y_tr)\n",
    "X = Clf.coef_\n",
    "print(X)\n",
    "print(\"Sparsity with actual data\",np.count_nonzero(X))\n",
    "\n",
    "\n",
    "train_bow_noise=train_bow\n",
    "train_bow_noise.data+=np.random.normal(loc=0,scale=0.0001,size=train_bow_noise.data.shape)\n",
    "#noise = np.random.normal(0,1,train_bow.shape)\n",
    "#train_bow_noise=train_bow+noise\n",
    "\n",
    "print(train_bow_noise.shape)\n",
    "\n",
    "clf_Noise=LogisticRegression(penalty='l1',C=1,class_weight='balanced')\n",
    "clf_Noise.fit(train_bow_noise,y_tr)\n",
    "X_noise=clf_Noise.coef_\n",
    "print(X_noise)\n",
    "print(\"Sparsity with noise data\",np.count_nonzero(X_noise))\n",
    "\n"
   ]
  },
  {
   "cell_type": "code",
   "execution_count": 74,
   "metadata": {},
   "outputs": [
    {
     "name": "stdout",
     "output_type": "stream",
     "text": [
      "[-1.19172747e-01  1.00000000e-06  1.00000000e-06 ...  1.00000000e-06\n",
      "  1.00000000e-06  1.00000000e-06]\n",
      "[-1.19355984e-01  1.00000000e-06  1.00000000e-06 ...  1.00000000e-06\n",
      "  1.00000000e-06  1.00000000e-06]\n",
      "49066\n",
      "49066\n"
     ]
    }
   ],
   "source": [
    "X=X[0]+10**-6\n",
    "X_noise=X_noise[0]+10**-6\n",
    "print(X)\n",
    "print(X_noise)\n",
    "#w = list(X)\n",
    "print(len(X))\n",
    "print(len(X_noise))"
   ]
  },
  {
   "cell_type": "code",
   "execution_count": 75,
   "metadata": {},
   "outputs": [
    {
     "name": "stderr",
     "output_type": "stream",
     "text": [
      "100%|██████████| 49066/49066 [00:00<00:00, 262104.27it/s]\n"
     ]
    },
    {
     "data": {
      "image/png": "[encoded data removed]",
      "text/plain": [
       "<Figure size 432x288 with 1 Axes>"
      ]
     },
     "metadata": {
      "needs_background": "light"
     },
     "output_type": "display_data"
    }
   ],
   "source": [
    "#to eliminate divisible by zero error we will add 10^-6 to W_before and W_after\n",
    "change_vector_percentage = []\n",
    "for i in tqdm(range(0,len(X))):\n",
    "    change_vector = 0\n",
    "    change_vector=(abs((X[i]-(X_noise[i]))/(X[i])))*100\n",
    "    change_vector_percentage.append(change_vector)\n",
    "#per_vector=[]\n",
    "#print(change_vector_percentage)\n",
    "percentile_value =[]\n",
    "percentile = []\n",
    "i=0\n",
    "while i<100:\n",
    "    percentile.append(i)\n",
    "    percentile_value.append(np.percentile(change_vector_percentage,i))\n",
    "    i = i+1;\n",
    "\n",
    "plt.plot(percentile, percentile_value)\n",
    "#print(percentile_value)\n",
    "plt.xlabel('percentile')\n",
    "plt.ylabel('percentage change')\n",
    "plt.show()\n",
    "#for i in range(len(W[0])):\n",
    "    #val=W_noise[0][i]-W[0][i]\n",
    "    #val/=W[0][i]\n",
    "    #per_vector.append(val)\n",
    "    \n",
    "#original_per_vect=np.absolute(per_vector)    \n",
    "#per_vector=sorted(np.absolute(per_vector))[::-1]\n",
    "\n",
    "#percentage change in vectors\n",
    "\n",
    "#per_vector[ :10]"
   ]
  },
  {
   "cell_type": "code",
   "execution_count": 80,
   "metadata": {},
   "outputs": [
    {
     "data": {
      "image/png": "[encoded data removed]",
      "text/plain": [
       "<Figure size 432x288 with 1 Axes>"
      ]
     },
     "metadata": {
      "needs_background": "light"
     },
     "output_type": "display_data"
    },
    {
     "name": "stdout",
     "output_type": "stream",
     "text": [
      "[90, 91, 92, 93, 94, 95, 96, 97, 98, 99]\n",
      "[0.005355582997842501, 0.013357155937351987, 0.022396385534470965, 0.03221516776804075, 0.04571840952851004, 0.06424666922694774, 0.09220428964926967, 0.14341919634109088, 0.26138061176601085, 0.6899692258721515]\n"
     ]
    }
   ],
   "source": [
    "ninty_percentile_value =[]\n",
    "ninty_percentile = []\n",
    "j=90\n",
    "while j<100:\n",
    "    ninty_percentile.append(j)\n",
    "    ninty_percentile_value.append(np.percentile(change_vector_percentage,j))\n",
    "    j = j+1;\n",
    "\n",
    "plt.plot(ninty_percentile, ninty_percentile_value)\n",
    "#print(percentile_value)\n",
    "plt.xlabel('percentile')\n",
    "plt.ylabel('percentage change')\n",
    "plt.show()\n",
    "\n",
    "print(ninty_percentile)\n",
    "print(ninty_percentile_value)"
   ]
  },
  {
   "cell_type": "code",
   "execution_count": 84,
   "metadata": {},
   "outputs": [
    {
     "data": {
      "image/png": "[encoded data removed]",
      "text/plain": [
       "<Figure size 432x288 with 1 Axes>"
      ]
     },
     "metadata": {
      "needs_background": "light"
     },
     "output_type": "display_data"
    },
    {
     "name": "stdout",
     "output_type": "stream",
     "text": [
      "[98, 98.1, 98.19999999999999, 98.29999999999998, 98.39999999999998, 98.49999999999997, 98.59999999999997, 98.69999999999996, 98.79999999999995, 98.89999999999995, 98.99999999999994]\n",
      "[0.26138061176601085, 0.28326339409667756, 0.3056699743110664, 0.33172067259023524, 0.36623717343449136, 0.3992151998721237, 0.42745232763129903, 0.47503207078281867, 0.5253464597665197, 0.600058267403584, 0.6899692258719867]\n"
     ]
    }
   ],
   "source": [
    "nint_percentile_value =[]\n",
    "nint_percentile = []\n",
    "k=98\n",
    "while k<99:\n",
    "    nint_percentile.append(k)\n",
    "    nint_percentile_value.append(np.percentile(change_vector_percentage,k))\n",
    "    k = k+0.1;\n",
    "\n",
    "plt.plot(nint_percentile, nint_percentile_value)\n",
    "#print(percentile_value)\n",
    "plt.xlabel('percentile')\n",
    "plt.ylabel('percentage change')\n",
    "plt.show()\n",
    "\n",
    "print(nint_percentile)\n",
    "print(nint_percentile_value)"
   ]
  },
  {
   "cell_type": "code",
   "execution_count": 85,
   "metadata": {},
   "outputs": [
    {
     "name": "stdout",
     "output_type": "stream",
     "text": [
      "689\n"
     ]
    }
   ],
   "source": [
    "#At percentile 98.5, the value is 0.427 which is the elbow point. The features/words whose percentage change is greater than\n",
    "#this threshold value 0.427 are affected by noise and referred as multicollinear features\n",
    "w_threshold=[]\n",
    "count = 0;\n",
    "for i in range(0,len(change_vector_percentage)):\n",
    "    if change_vector_percentage[i] > 0.427:\n",
    "        count = count+1;\n",
    "        w_threshold.append(X[i])\n",
    "    else:\n",
    "        w_threshold.append(0.0)\n",
    "print(count)"
   ]
  },
  {
   "cell_type": "code",
   "execution_count": 86,
   "metadata": {},
   "outputs": [
    {
     "name": "stdout",
     "output_type": "stream",
     "text": [
      "['volvic', 'usb', 'computer', 'lapsang', 'kudos', 'bumblebee', 'activities', 'gently', 'upc', 'wherever', 'fuzzy', 'space', 'conventional', 'petite', 'chelated', 'gripe', 'picaridin', 'paupa', 'seldom', 'cuisine', 'taint', 'boil', 'recognized', 'grapeseed', 'earthborn', 'smack', 'connection', 'record', 'deeper', 'electrolytes', 'counter', 'acana', 'heavenly', 'heated', 'bro', 'freshens', 'receives', 'channels', 'proteins', 'organix', 'happybaby', 'leakage', 'zoe', 'distribution', 'wt', 'thoroughly', 'weary', 'stands', 'cares', 'account', 'experimenting', 'unbelievably', 'impressive', 'refrigerate', 'follow', 'spain', 'indomie', 'excess', 'refrigerated', 'hopper', 'gulp', 'power', 'moisture', 'aware', 'lasagna', 'reusable', 'workable', 'focused', 'jose', 'traps', 'brilliant', 'solution', 'holistic', 'rinsing', 'sourcing', 'dogswell', 'denver', 'methods', 'luckily', 'bakery', 'posted', 'discovering', 'reorder', 'eyebrow', 'differences', 'shots', 'highland', 'place', 'flip', 'creamier', 'souchong', 'shared', 'completly', 'discontinue', 'generation', 'thus', 'purebites', 'dreaming', 'girardelli', 'die', 'toast', 'profile', 'adequate', 'additives', 'twizzlers', 'handfuls', 'marco', 'stop', 'simmered', 'guarana', 'puked', 'wall', 'el', 'grooves', 'detox', 'hey', 'environment', 'alcohols', 'beyond', 'gobbled', 'kefir', 'hmmm', 'system', 'demerara', 'las', 'fashioned', 'bird', 'antioxidant', 'banana', 'everlasting', 'consumer', 'absent', 'fenugreek', 'keebler', 'directly', 'cornstarch', 'gym', 'roasting', 'begged', 'scones', 'shredded', 'class', 'tast', 'fewer', 'brandy', 'came', 'ceramic', 'einstein', 'rave', 'dick', 'newmans', 'shampoo', 'distiller', 'alert', 'geisha', 'excellence', 'god', 'filet', 'manufactured', 'quest', 'labs', 'milk', 'square', 'leash', 'bahlsen', 'scrambled', 'fromm', 'inflammatory', 'photos', 'pb', 'fillers', 'beach', 'talked', 'nation', 'know', 'phase', 'balsamic', 'dissolves', 'anyways', 'finer', 'western', 'peels', 'cola', 'porch', 'oil', 'capsules', 'tubes', 'strongly', 'diet', 'lowfat', 'toppings', 'sampled', 'overnight', 'retail', 'meeting', 'recommends', 'require', 'advantages', 'comes', 'pesto', 'attention', 'cooking', 'pleasing', 'swedish', 'perishable', 'grande', 'successful', 'exceptionally', 'size', 'flow', 'papaya', 'pretzels', 'stairs', 'jolly', 'marshmellow', 'category', 'bottled', 'stovetop', 'bengal', 'prevent', 'dents', 'goodie', 'nerds', 'miniature', 'va', 'roommate', 'cook', 'akita', 'powdering', 'shavings', 'personally', 'gatorade', 'providing', 'bothered', 'compare', 'green', 'chais', 'types', 'colors', 'entirely', 'tricks', 'believe', 'swiftly', 'poops', 'mine', 'traces', 'occasional', 'weekend', 'anymore', 'plants', 'handles', 'watched', 'reminds', 'heal', 'ms', 'canned', 'summer', 'tree', 'complain', 'roland', 'boiled', 'subscribing', 'dirty', 'cooling', 'ride', 'sodas', 'sugarworks', 'fluffy', 'reaches', 'seal', 'steal', 'toxic', 'biodegradable', 'giannini', 'yuccky', 'worsethey', 'winebaskets', 'spicybut', 'shutting', 'reeks', 'prairie', 'ovenand', 'maxes', 'harrogate', 'guys', 'degermed', 'compartment', 'one', 'rare', 'number', 'finger', 'debbiednorvell', 'ot', 'consumption', 'tablets', 'batches', 'send', 'chery', 'clorox', 'gould', 'first', 'brewed', 'alike', 'moutth', 'damaged', 'owners', 'author', 'public', 'deflated', 'gels', 'avoderm', 'break', 'unnamed', 'guanabana', 'appears', 'arrowhead', 'outside', 'byzantine', 'coffe', 'misrepresentation', 'zico', 'revealed', 'butt', 'almond', 'accidentally', 'present', 'lavazza', 'hours', 'deet', 'sickly', 'overpower', 'shrunk', 'timothy', 'substantial', 'watch', 'market', 'honestly', 'cherimoyas', 'inside', 'wintergreens', 'filming', 'online', 'ringer', 'joe', 'see', 'rocky', 'folgers', 'peel', 'outta', 'soymilk', 'refunded', 'refreshment', 'obligate', 'icebreakers', 'teh', 'gevalia', 'stinking', 'cats', 'age', 'grind', 'hmm', 'larvae', 'distance', 'evidenced', 'thekeurig', 'manufacturer', 'slopped', 'soups', 'saddest', 'reviewers', 'jif', 'different', 'news', 'investigation', 'zi', 'renton', 'kinds', 'vitamin', 'costco', 'gizmo', 'amarillos', 'content', 'effect', 'thing', 'gluten', 'shoe', 'ship', 'strips', 'chug', 'false', 'seasoning', 'strip', 'real', 'cruchy', 'experiencing', 'hundreds', 'caloriesdeceptive', 'pastabut', 'urge', 'philippines', 'selected', 'directionsfrom', 'sacrifices', 'impression', 'guava', 'leaving', 'murchie', 'late', 'brendan', 'pastas', 'daughters', 'article', 'wide', 'hulless', 'altoids', 'research', 'bulky', 'oro', 'driveway', 'noted', 'whip', 'learn', 'saucepan', 'burn', 'sold', 'camouflage', 'calamari', 'contributing', 'herbal', 'mildewy', 'candle', 'told', 'adult', 'accept', 'tray', 'learning', 'selections', 'thru', 'akin', 'ness', 'whis', 'caloric', 'craxker', 'msds', 'vegit', 'introduce', 'insist', 'creepy', 'pecan', 'feather', 'wasteful', 'cento', 'kohl', 'wrapping', 'honeydew', 'freeze', 'eb', 'beagle', 'believes', 'harney', 'veinier', 'fromthe', 'choc', 'solofil', 'point', 'meyers', 'straws', 'casseroles', 'managed', 'animal', 'fennel', 'bodied', 'mass', 'inevitable', 'hardened', 'coworker', 'website', 'frito', 'continues', 'sweetleaf', 'couch', 'grey', 'flush', 'otehres', 'petowners', 'escape', 'crap', 'compromised', 'mesquite', 'bunny', 'fed', 'hersey', 'paw', 'paralyzed', 'finished', 'consumers', 'unacceptable', 'monotone', 'higher', 'bombshells', 'lea', 'jan', 'newville', 'gree', 'survive', 'maine', 'jasmine', 'vernors', 'st', 'unwittingly', 'beginning', 'redwoods', 'constant', 'approx', 'watermark', 'tping', 'lolthese', 'jumps', 'commenter', 'kernelly', 'phillip', 'destroys', 'calcified', 'panic', 'itme', 'cfl', 'displayed', 'wiped', 'lay', 'attempted', 'gnaw', 'poisoning', 'perched', 'guar', 'bergamont', 'havi', 'caring', 'deader', 'unaware', 'ahmad', 'parts', 'lactic', 'gummbybears', 'spaghettiit', 'deleted', 'wrinkly', 'esp', 'sucker', 'faking', 'carolyn', 'david', 'pete', 'ing', 'ingested', 'route', 'badi', 'kah', 'researched', 'pumping', 'pucker', 'proactive', 'bronx', 'regretted', 'respect', 'lattes', 'ter', 'immortal', 'breville', 'queazy', 'fong', 'washing', 'emptor', 'noone', 'regatta', 'wle', 'abnormal', 'paper', 'bab', 'audacity', 'latervia', 'cylindrical', 'remotly', 'legal', 'itfor', 'aguave', 'episode', 'cite', 'walloping', 'inconclusion', 'baffled', 'amaretto', 'inclusive', 'walkers', 'sex', 'duds', 'alive', 'hocker', 'diminishes', 'wean', 'bitten', 'continental', 'hoppin', 'sorting', 'relive', 'ppm', 'disapointing', 'dop', 'asoft', 'grocwery', 'rolands', 'irritate', 'linux', 'equipment', 'showing', 'todd', 'mugged', 'referred', 'hugely', 'visable', 'drippy', 'intro', 'insightbb', 'spoonful', 'smallfrom', 'supports', 'thankx', 'mintiness', 'agoraphobic', 'seek', 'morgue', 'nocks', 'dissaponited', 'johns', 'shopped', 'colour', 'yuckiness', 'zapp', 'rio', 'earthquakes', 'taxidermist', 'wll', 'pillows', 'popovers', 'stamped', 'awfulonly', 'plug', 'yuckky', 'mopped', 'newer', 'torched', 'tech', 'mayorga', 'sneaky', 'windows', 'atis', 'caps', 'chao', 'officemate', 'insouth', 'stabilizes', 'cos', 'aforementioned', 'perrins', 'dumpster', 'salesman', 'battles', 'embarassed', 'laptop', 'chuao', 'havebut', 'anywayz', 'microphone', 'huy', 'distilled', 'shouldnt', 'isbn', 'technicians', 'taylors', 'stolen', 'yadayadayada', 'storebrand', 'elegible', 'minimial', 'akg', 'emerging', 'hapkido', 'embodies', 'toot', 'saquin']\n"
     ]
    }
   ],
   "source": [
    "#multicolinear features\n",
    "features_threshold = collinear_features_fun(count_vect,w_threshold)\n",
    "print(features_threshold)"
   ]
  },
  {
   "cell_type": "code",
   "execution_count": null,
   "metadata": {},
   "outputs": [],
   "source": [
    "#Trying different C values to predict Sparsity"
   ]
  },
  {
   "cell_type": "code",
   "execution_count": 116,
   "metadata": {},
   "outputs": [
    {
     "name": "stdout",
     "output_type": "stream",
     "text": [
      "Sparsity with C = 100: 12884\n",
      "Sparsity with C = 10: 10758\n",
      "Sparsity with C = 1: 5075\n",
      "Sparsity with C = 0.1: 984\n",
      "Sparsity with C = 0.01: 145\n"
     ]
    }
   ],
   "source": [
    "clf = LogisticRegression(C=100, penalty='l1')\n",
    "clf.fit(train_bow, y_train)\n",
    "\n",
    "pred = clf.predict(test_bow)\n",
    "ac1 = accuracy_score(y_test, pred) * 100\n",
    "er1 = np.around(100 - ac1, decimals = 2)\n",
    "\n",
    "w = clf.coef_\n",
    "s1 = np.count_nonzero(w)\n",
    "print(\"Sparsity with C = 100:\", s1)\n",
    "\n",
    "clf = LogisticRegression(C=10, penalty='l1')\n",
    "clf.fit(train_bow, y_train)\n",
    "\n",
    "pred = clf.predict(test_bow)\n",
    "ac1 = accuracy_score(y_test, pred) * 100\n",
    "er1 = np.around(100 - ac1, decimals = 2)\n",
    "\n",
    "w = clf.coef_\n",
    "s1 = np.count_nonzero(w)\n",
    "print(\"Sparsity with C = 10:\", s1)\n",
    "\n",
    "clf = LogisticRegression(C=1, penalty='l1')\n",
    "clf.fit(train_bow, y_train)\n",
    "\n",
    "pred = clf.predict(test_bow)\n",
    "ac1 = accuracy_score(y_test, pred) * 100\n",
    "er1 = np.around(100 - ac1, decimals = 2)\n",
    "\n",
    "w = clf.coef_\n",
    "s1 = np.count_nonzero(w)\n",
    "print(\"Sparsity with C = 1:\", s1)\n",
    "\n",
    "\n",
    "clf = LogisticRegression(C=0.1, penalty='l1')\n",
    "clf.fit(train_bow, y_train)\n",
    "\n",
    "pred = clf.predict(test_bow)\n",
    "ac1 = accuracy_score(y_test, pred) * 100\n",
    "er1 = np.around(100 - ac1, decimals = 2)\n",
    "\n",
    "w = clf.coef_\n",
    "s1 = np.count_nonzero(w)\n",
    "print(\"Sparsity with C = 0.1:\", s1)\n",
    "\n",
    "\n",
    "clf = LogisticRegression(C=0.01, penalty='l1')\n",
    "clf.fit(train_bow, y_train)\n",
    "\n",
    "pred = clf.predict(test_bow)\n",
    "ac1 = accuracy_score(y_test, pred) * 100\n",
    "er1 = np.around(100 - ac1, decimals = 2)\n",
    "\n",
    "w = clf.coef_\n",
    "s1 = np.count_nonzero(w)\n",
    "print(\"Sparsity with C = 0.01:\", s1)"
   ]
  },
  {
   "cell_type": "markdown",
   "metadata": {},
   "source": [
    "\n",
    "From above results, it is found that as the C value decreases, sparsity also decreases."
   ]
  },
  {
   "cell_type": "code",
   "execution_count": 87,
   "metadata": {},
   "outputs": [
    {
     "name": "stderr",
     "output_type": "stream",
     "text": [
      "C:\\Users\\Dell\\AppData\\Roaming\\Python\\Python36\\site-packages\\sklearn\\svm\\base.py:929: ConvergenceWarning: Liblinear failed to converge, increase the number of iterations.\n",
      "  \"the number of iterations.\", ConvergenceWarning)\n",
      "C:\\Users\\Dell\\AppData\\Roaming\\Python\\Python36\\site-packages\\sklearn\\svm\\base.py:929: ConvergenceWarning: Liblinear failed to converge, increase the number of iterations.\n",
      "  \"the number of iterations.\", ConvergenceWarning)\n",
      "C:\\Users\\Dell\\AppData\\Roaming\\Python\\Python36\\site-packages\\sklearn\\svm\\base.py:929: ConvergenceWarning: Liblinear failed to converge, increase the number of iterations.\n",
      "  \"the number of iterations.\", ConvergenceWarning)\n"
     ]
    },
    {
     "data": {
      "image/png": "[encoded data removed]",
      "text/plain": [
       "<Figure size 432x288 with 1 Axes>"
      ]
     },
     "metadata": {
      "needs_background": "light"
     },
     "output_type": "display_data"
    }
   ],
   "source": [
    "C = [0.00001, 0.0001, 0.001, 0.01, 1, 10, 100, 1000, 10000]\n",
    "train_results = []\n",
    "test_results = []\n",
    "for i in C:\n",
    "    clf = LogisticRegression(C=i,class_weight='balanced')\n",
    "    clf.fit(train_bow, y_tr)\n",
    "    train_pred = clf.predict(train_bow)\n",
    "    false_positive_rate, true_positive_rate, thresholds = roc_curve(y_tr, train_pred)\n",
    "    roc_auc = auc(false_positive_rate, true_positive_rate)\n",
    "    train_results.append(roc_auc)\n",
    "    y_pred = clf.predict(test_bow)\n",
    "    false_positive_rate, true_positive_rate, thresholds = roc_curve(y_test, y_pred)\n",
    "    roc_auc = auc(false_positive_rate, true_positive_rate)\n",
    "    test_results.append(roc_auc)\n",
    "from matplotlib.legend_handler import HandlerLine2D\n",
    "ax = plt.gca()\n",
    "ax.set_xscale('log')\n",
    "line1, = ax.plot(C, train_results, 'b', label=\"Train AUC\")\n",
    "line2, = ax.plot(C, test_results, 'r', label=\"Test AUC\")\n",
    "plt.legend(handler_map={line1: HandlerLine2D(numpoints=2)})\n",
    "plt.title(\"Performance of BoW over hyperparameter C\")\n",
    "plt.ylabel('AUC score')\n",
    "plt.xlabel('Hyperparameter C')\n",
    "plt.show()"
   ]
  },
  {
   "cell_type": "markdown",
   "metadata": {
    "colab_type": "text",
    "id": "eB1rF0BQLPpG"
   },
   "source": [
    "### [5.1.3] Feature Importance on BOW,<font color='red'> SET 1</font>"
   ]
  },
  {
   "cell_type": "markdown",
   "metadata": {
    "colab_type": "text",
    "id": "JZTP19dqLPpI"
   },
   "source": [
    "#### [5.1.3.1] Top 10 important features of positive class from<font color='red'> SET 1</font>"
   ]
  },
  {
   "cell_type": "code",
   "execution_count": 103,
   "metadata": {
    "colab": {},
    "colab_type": "code",
    "id": "oGRpCVJgLPpI"
   },
   "outputs": [
    {
     "name": "stdout",
     "output_type": "stream",
     "text": [
      "Top 10 positive features :\n",
      "pleasantly\n",
      "worried\n",
      "satisfied\n",
      "beat\n",
      "excellent\n",
      "welcome\n",
      "delicious\n",
      "amazing\n",
      "hooked\n",
      "complaint\n"
     ]
    }
   ],
   "source": [
    "# Please write all the code with proper documentation\n",
    "\n",
    "weight=clf_l2.coef_\n",
    "pos_indx=np.argsort(weight)[:,::-1]\n",
    "\n",
    "neg_indx=np.argsort(weight)\n",
    "\n",
    "print('Top 10 positive features :')\n",
    "for i in list(pos_indx[0][0:10]):\n",
    "    print(all_features[i])\n",
    "\n"
   ]
  },
  {
   "cell_type": "markdown",
   "metadata": {
    "colab_type": "text",
    "id": "UJLYBE1gLPpJ"
   },
   "source": [
    "#### [5.1.3.2] Top 10 important features of negative class from<font color='red'> SET 1</font>"
   ]
  },
  {
   "cell_type": "code",
   "execution_count": 104,
   "metadata": {
    "colab": {},
    "colab_type": "code",
    "id": "c9r7Zjx1LPpK"
   },
   "outputs": [
    {
     "name": "stdout",
     "output_type": "stream",
     "text": [
      "Top 10 negative features :\n",
      "worst\n",
      "cancelled\n",
      "disappointing\n",
      "undrinkable\n",
      "terrible\n",
      "rip\n",
      "tasteless\n",
      "sounded\n",
      "disappointment\n",
      "flavorless\n"
     ]
    }
   ],
   "source": [
    "# Please write all the code with proper documentation\n",
    "print('Top 10 negative features :')\n",
    "for i in list(neg_indx[0][:10]):\n",
    "    print(all_features[i])"
   ]
  },
  {
   "cell_type": "markdown",
   "metadata": {
    "colab_type": "text",
    "id": "nKn3VXcZLPpN"
   },
   "source": [
    "## [5.2] Logistic Regression on TFIDF,<font color='red'> SET 2</font>"
   ]
  },
  {
   "cell_type": "markdown",
   "metadata": {
    "colab_type": "text",
    "id": "naTBSzm6LPpN"
   },
   "source": [
    "### [5.2.1] Applying Logistic Regression with L1 regularization on TFIDF,<font color='red'> SET 2</font>"
   ]
  },
  {
   "cell_type": "code",
   "execution_count": 91,
   "metadata": {
    "colab": {},
    "colab_type": "code",
    "id": "PEhaagXXLPpS"
   },
   "outputs": [
    {
     "name": "stdout",
     "output_type": "stream",
     "text": [
      "(17555, 33089)\n",
      "(14044, 33089)\n",
      "(56174, 33089)\n"
     ]
    }
   ],
   "source": [
    "# Please write all the code with proper documentation\n",
    "tfidf_vect = TfidfVectorizer(ngram_range=(1,2),min_df=10)\n",
    "tfidf_vect.fit(X_tr['CleanedText'])\n",
    "train_tfidf = tfidf_vect.transform(X_tr['CleanedText'])\n",
    "cv_tfidf = tfidf_vect.transform(X_cv['CleanedText'])\n",
    "test_tfidf = tfidf_vect.transform(X_test['CleanedText'])\n",
    "print(test_tfidf.shape)\n",
    "print(cv_tfidf.shape)\n",
    "print(train_tfidf.shape)"
   ]
  },
  {
   "cell_type": "code",
   "execution_count": 120,
   "metadata": {},
   "outputs": [
    {
     "name": "stdout",
     "output_type": "stream",
     "text": [
      "GridSearchCV(cv='warn', error_score='raise-deprecating',\n",
      "             estimator=LogisticRegression(C=1.0, class_weight=None, dual=False,\n",
      "                                          fit_intercept=True,\n",
      "                                          intercept_scaling=1, l1_ratio=None,\n",
      "                                          max_iter=100, multi_class='warn',\n",
      "                                          n_jobs=None, penalty='l1',\n",
      "                                          random_state=None, solver='warn',\n",
      "                                          tol=0.0001, verbose=0,\n",
      "                                          warm_start=False),\n",
      "             iid='warn', n_jobs=None,\n",
      "             param_grid=[{'C': [1e-05, 0.0001, 0.001, 0.01, 1, 10, 100, 1000,\n",
      "                                10000]}],\n",
      "             pre_dispatch='2*n_jobs', refit='AUC', return_train_score=False,\n",
      "             scoring={'AUC': 'roc_auc', 'Accuracy': 'accuracy'}, verbose=0)\n",
      "0.9541666203800235\n",
      "LogisticRegression(C=1, class_weight=None, dual=False, fit_intercept=True,\n",
      "                   intercept_scaling=1, l1_ratio=None, max_iter=100,\n",
      "                   multi_class='warn', n_jobs=None, penalty='l1',\n",
      "                   random_state=None, solver='warn', tol=0.0001, verbose=0,\n",
      "                   warm_start=False)\n",
      "0.9609677727400501\n"
     ]
    }
   ],
   "source": [
    "#https://machinelearningmastery.com/how-to-tune-algorithm-parameters-with-scikit-learn/\n",
    "#Applying GridSearch to find the best hyperparameter C\n",
    "\n",
    "tuned_parameter = [{'C': [0.00001, 0.0001, 0.001, 0.01, 1, 10, 100, 1000, 10000]}]\n",
    "from sklearn.model_selection import GridSearchCV\n",
    "from sklearn.linear_model import LogisticRegression\n",
    "clf = LogisticRegression(penalty='l1',class_weight='balanced')\n",
    "scoring = {'AUC': 'roc_auc', 'Accuracy': 'accuracy'}\n",
    "grid = GridSearchCV(estimator=clf, param_grid = tuned_parameter ,scoring = scoring, refit = 'AUC')\n",
    "grid.fit(train_tfidf, y_train)\n",
    "print(grid)\n",
    "# summarize the results of the grid search\n",
    "print(grid.best_score_)\n",
    "print(grid.best_estimator_)\n",
    "print(grid.score(test_tfidf,y_test))\n",
    "results = grid.cv_results_\n",
    "#print(results)\n",
    "#print(grid.confusion_matrix)"
   ]
  },
  {
   "cell_type": "code",
   "execution_count": 92,
   "metadata": {},
   "outputs": [
    {
     "name": "stdout",
     "output_type": "stream",
     "text": [
      "Area under the ROC curve : %f 0.9616383459253087\n",
      "[[ 2322   278]\n",
      " [ 1118 10326]]\n"
     ]
    },
    {
     "data": {
      "text/plain": [
       "Text(0.5, 15.0, 'Predicted label')"
      ]
     },
     "execution_count": 92,
     "metadata": {},
     "output_type": "execute_result"
    },
    {
     "data": {
      "image/png": "[encoded data removed]",
      "text/plain": [
       "<Figure size 432x288 with 2 Axes>"
      ]
     },
     "metadata": {
      "needs_background": "light"
     },
     "output_type": "display_data"
    }
   ],
   "source": [
    "clf = LogisticRegression(C=1, penalty ='l1',class_weight='balanced');\n",
    "clf.fit(train_tfidf, y_tr)\n",
    "#conf_matrix = confusion_matrix(y_test,pred)\n",
    "cclf=clf.predict(cv_tfidf)\n",
    "pred_cv = clf.predict_proba(cv_tfidf)[:,1]\n",
    "#print('alpha value = ',1)\n",
    "#acc = accuracy_score(y_test,pred_test)*100\n",
    "#print(\"Accuracy\",acc)\n",
    "fpr, tpr, thresholds = roc_curve(y_cv,pred_cv)\n",
    "roc_auc_cv = auc(fpr, tpr)\n",
    "print('Area under the ROC curve : %f', + roc_auc_cv)\n",
    "#Plotting confusion matrix\n",
    "import seaborn as sns\n",
    "conf_mat = confusion_matrix(y_cv, cclf)\n",
    "print(conf_mat)\n",
    "#conf_normalized = conf_mat.astype('int') / conf_mat.sum(axis=1)[:, np.newaxis]\n",
    "sns.heatmap(conf_mat, annot=True, fmt ='g')\n",
    "plt.title('Confusion matrix for CV data')\n",
    "plt.ylabel('True label')\n",
    "plt.xlabel('Predicted label')"
   ]
  },
  {
   "cell_type": "code",
   "execution_count": 93,
   "metadata": {},
   "outputs": [
    {
     "name": "stdout",
     "output_type": "stream",
     "text": [
      "Area under the ROC curve : %f 0.9600346066042132\n",
      "[[ 2559   353]\n",
      " [ 1326 13317]]\n"
     ]
    },
    {
     "data": {
      "text/plain": [
       "Text(0, 0.5, 'False Positive Rate')"
      ]
     },
     "execution_count": 93,
     "metadata": {},
     "output_type": "execute_result"
    },
    {
     "data": {
      "image/png": "[encoded data removed]",
      "text/plain": [
       "<Figure size 432x288 with 2 Axes>"
      ]
     },
     "metadata": {
      "needs_background": "light"
     },
     "output_type": "display_data"
    },
    {
     "data": {
      "image/png": "[encoded data removed]",
      "text/plain": [
       "<Figure size 432x288 with 1 Axes>"
      ]
     },
     "metadata": {
      "needs_background": "light"
     },
     "output_type": "display_data"
    }
   ],
   "source": [
    "clf = LogisticRegression(C=1, penalty ='l1',class_weight='balanced');\n",
    "clf.fit(train_tfidf, y_tr)\n",
    "#w = clf.coef_\n",
    "#print(\"Sparsity:\",np.count_nonzero(w))\n",
    "\n",
    "#conf_matrix = confusion_matrix(y_test,pred)\n",
    "cclf=clf.predict(test_tfidf)\n",
    "pred_test = clf.predict_proba(test_tfidf)[:,1]\n",
    "#print('alpha value = ',1)\n",
    "#acc = accuracy_score(y_test,pred_test)*100\n",
    "#print(\"Accuracy\",acc)\n",
    "fpr, tpr, thresholds = roc_curve(y_test,pred_test)\n",
    "roc_auc_test = auc(fpr, tpr)\n",
    "print('Area under the ROC curve : %f', + roc_auc_test)\n",
    "#Plotting confusion matrix\n",
    "import seaborn as sns\n",
    "conf_mat = confusion_matrix(y_test, cclf)\n",
    "print(conf_mat)\n",
    "#conf_normalized = conf_mat.astype('int') / conf_mat.sum(axis=1)[:, np.newaxis]\n",
    "sns.heatmap(conf_mat, annot=True, fmt ='g')\n",
    "plt.ylabel('True label')\n",
    "plt.xlabel('Predicted label')\n",
    "\n",
    "\n",
    "#Plot ROC Curve\n",
    "plt.figure(0).clf()\n",
    "fpr, tpr, thresholds = roc_curve(y_test,pred_test)\n",
    "roc_auc_test = auc(fpr, tpr)\n",
    "plt.plot(fpr,tpr,label=\"Test Data, auc=\"+str(roc_auc_test))\n",
    "fpr, tpr, thresh = roc_curve(y_cv, pred_cv)\n",
    "roc_auc_cv = auc(fpr, tpr)\n",
    "plt.plot(fpr,tpr,label=\"Train Data, auc=\"+str(roc_auc_cv))\n",
    "plt.title('ROC curve for Train and Test Dataset - TFIDF')\n",
    "plt.xlabel('True Positive Rate')\n",
    "plt.ylabel('False Positive Rate')\n"
   ]
  },
  {
   "cell_type": "markdown",
   "metadata": {
    "colab_type": "text",
    "id": "NdFShHQJLPpV"
   },
   "source": [
    "### [5.2.2] Applying Logistic Regression with L2 regularization on TFIDF,<font color='red'> SET 2</font>"
   ]
  },
  {
   "cell_type": "code",
   "execution_count": 94,
   "metadata": {
    "colab": {},
    "colab_type": "code",
    "id": "Jyhq3JDzLPpW"
   },
   "outputs": [
    {
     "name": "stdout",
     "output_type": "stream",
     "text": [
      "Area under the ROC curve : %f 0.9622826539940311\n",
      "[[ 2296   304]\n",
      " [  981 10463]]\n"
     ]
    },
    {
     "data": {
      "image/png": "[encoded data removed]",
      "text/plain": [
       "<Figure size 432x288 with 2 Axes>"
      ]
     },
     "metadata": {
      "needs_background": "light"
     },
     "output_type": "display_data"
    }
   ],
   "source": [
    "clf = LogisticRegression(C=1, penalty ='l2',class_weight='balanced');\n",
    "clf.fit(train_tfidf, y_tr)\n",
    "#conf_matrix = confusion_matrix(y_test,pred)\n",
    "cclf=clf.predict(cv_tfidf)\n",
    "pred_cv = clf.predict_proba(cv_tfidf)[:,1]\n",
    "#print('alpha value = ',1)\n",
    "#acc = accuracy_score(y_test,pred_test)*100\n",
    "#print(\"Accuracy\",acc)\n",
    "fpr, tpr, thresholds = roc_curve(y_cv,pred_cv)\n",
    "roc_auc_cv = auc(fpr, tpr)\n",
    "print('Area under the ROC curve : %f', + roc_auc_cv)\n",
    "#Plotting confusion matrix\n",
    "import seaborn as sns\n",
    "conf_mat = confusion_matrix(y_cv, cclf)\n",
    "print(conf_mat)\n",
    "#conf_normalized = conf_mat.astype('int') / conf_mat.sum(axis=1)[:, np.newaxis]\n",
    "sns.heatmap(conf_mat, annot=True, fmt ='g')\n",
    "plt.title('Confusion matrix for CV data')\n",
    "plt.ylabel('True label')\n",
    "plt.xlabel('Predicted label')\n",
    "plt.show()"
   ]
  },
  {
   "cell_type": "code",
   "execution_count": 95,
   "metadata": {},
   "outputs": [
    {
     "name": "stdout",
     "output_type": "stream",
     "text": [
      "Area under the ROC curve : %f 0.9625707919922731\n",
      "[[ 2542   370]\n",
      " [ 1168 13475]]\n"
     ]
    },
    {
     "data": {
      "text/plain": [
       "Text(0, 0.5, 'False Positive Rate')"
      ]
     },
     "execution_count": 95,
     "metadata": {},
     "output_type": "execute_result"
    },
    {
     "data": {
      "image/png": "[encoded data removed]",
      "text/plain": [
       "<Figure size 432x288 with 2 Axes>"
      ]
     },
     "metadata": {
      "needs_background": "light"
     },
     "output_type": "display_data"
    },
    {
     "data": {
      "image/png": "[encoded data removed]",
      "text/plain": [
       "<Figure size 432x288 with 1 Axes>"
      ]
     },
     "metadata": {
      "needs_background": "light"
     },
     "output_type": "display_data"
    }
   ],
   "source": [
    "clf = LogisticRegression(C=1, penalty ='l2',class_weight='balanced');\n",
    "clf.fit(train_tfidf, y_tr)\n",
    "#w = clf.coef_\n",
    "#print(\"Sparsity:\",np.count_nonzero(w))\n",
    "\n",
    "#conf_matrix = confusion_matrix(y_test,pred)\n",
    "cclf=clf.predict(test_tfidf)\n",
    "pred_test = clf.predict_proba(test_tfidf)[:,1]\n",
    "#print('alpha value = ',1)\n",
    "#acc = accuracy_score(y_test,pred_test)*100\n",
    "#print(\"Accuracy\",acc)\n",
    "fpr, tpr, thresholds = roc_curve(y_test,pred_test)\n",
    "roc_auc_test = auc(fpr, tpr)\n",
    "print('Area under the ROC curve : %f', + roc_auc_test)\n",
    "#Plotting confusion matrix\n",
    "import seaborn as sns\n",
    "conf_mat = confusion_matrix(y_test, cclf)\n",
    "print(conf_mat)\n",
    "#conf_normalized = conf_mat.astype('int') / conf_mat.sum(axis=1)[:, np.newaxis]\n",
    "sns.heatmap(conf_mat, annot=True, fmt ='g')\n",
    "plt.ylabel('True label')\n",
    "plt.xlabel('Predicted label')\n",
    "\n",
    "\n",
    "#Plot ROC Curve\n",
    "plt.figure(0).clf()\n",
    "fpr, tpr, thresholds = roc_curve(y_test,pred_test)\n",
    "roc_auc_test = auc(fpr, tpr)\n",
    "plt.plot(fpr,tpr,label=\"Test Data, auc=\"+str(roc_auc_test))\n",
    "fpr, tpr, thresh = roc_curve(y_cv, pred_cv)\n",
    "roc_auc_cv = auc(fpr, tpr)\n",
    "plt.plot(fpr,tpr,label=\"Train Data, auc=\"+str(roc_auc_cv))\n",
    "plt.title('ROC curve for Train and Test Dataset - TFIDF')\n",
    "plt.xlabel('True Positive Rate')\n",
    "plt.ylabel('False Positive Rate')\n"
   ]
  },
  {
   "cell_type": "code",
   "execution_count": 97,
   "metadata": {},
   "outputs": [
    {
     "data": {
      "image/png": "[encoded data removed]",
      "text/plain": [
       "<Figure size 432x288 with 1 Axes>"
      ]
     },
     "metadata": {
      "needs_background": "light"
     },
     "output_type": "display_data"
    }
   ],
   "source": [
    "C = [0.00001, 0.0001, 0.001, 0.01, 1, 10, 100, 1000, 10000]\n",
    "train_results = []\n",
    "test_results = []\n",
    "for i in C:\n",
    "    clf = LogisticRegression(C=i,class_weight='balanced')\n",
    "    clf.fit(train_tfidf, y_tr)\n",
    "    train_pred = clf.predict(train_tfidf)\n",
    "    false_positive_rate, true_positive_rate, thresholds = roc_curve(y_tr, train_pred)\n",
    "    roc_auc = auc(false_positive_rate, true_positive_rate)\n",
    "    train_results.append(roc_auc)\n",
    "    y_pred = clf.predict(test_tfidf)\n",
    "    false_positive_rate, true_positive_rate, thresholds = roc_curve(y_test, y_pred)\n",
    "    roc_auc = auc(false_positive_rate, true_positive_rate)\n",
    "    test_results.append(roc_auc)\n",
    "from matplotlib.legend_handler import HandlerLine2D\n",
    "ax = plt.gca()\n",
    "ax.set_xscale('log')\n",
    "line1, = ax.plot(C, train_results, 'b', label=\"Train AUC\")\n",
    "line2, = ax.plot(C, test_results, 'r', label=\"Test AUC\")\n",
    "plt.legend(handler_map={line1: HandlerLine2D(numpoints=2)})\n",
    "plt.title(\"Performance of TFIDF over hyperparameter C\")\n",
    "plt.ylabel('AUC score')\n",
    "plt.xlabel('Hyperparameter C')\n",
    "plt.show()"
   ]
  },
  {
   "cell_type": "markdown",
   "metadata": {
    "colab_type": "text",
    "id": "xeeJ8eVvLPpX"
   },
   "source": [
    "### [5.2.3] Feature Importance on TFIDF,<font color='red'> SET 2</font>"
   ]
  },
  {
   "cell_type": "markdown",
   "metadata": {
    "colab_type": "text",
    "id": "Cj9XEmqQLPpY"
   },
   "source": [
    "#### [5.2.3.1] Top 10 important features of positive class from<font color='red'> SET 2</font>"
   ]
  },
  {
   "cell_type": "code",
   "execution_count": 123,
   "metadata": {
    "colab": {},
    "colab_type": "code",
    "id": "RG10txygLPpb"
   },
   "outputs": [
    {
     "name": "stdout",
     "output_type": "stream",
     "text": [
      "Positive coefficients: ['without' 'yummy' 'definitely' 'tasty' 'awesome' 'happy' 'easy'\n",
      " 'favorite' 'amazing' 'not disappointed' 'wonderful' 'nice' 'excellent'\n",
      " 'loves' 'love' 'perfect' 'good' 'delicious' 'best' 'great']\n",
      "Negative coefficients: ['disappointed' 'not' 'worst' 'disappointing' 'not worth' 'terrible'\n",
      " 'not good' 'awful' 'horrible' 'not recommend' 'not buy' 'disappointment'\n",
      " 'unfortunately' 'bad' 'threw' 'stale' 'weak' 'return' 'money' 'bland']\n"
     ]
    }
   ],
   "source": [
    "# Please write all the code with proper documentation\n",
    "import matplotlib.pyplot as plt\n",
    "def plot_coefficients(classifier, feature_names, top_features=20):\n",
    "    coef = classifier.coef_.ravel()\n",
    "    top_positive_coefficients = np.argsort(coef)[-top_features:]\n",
    "    top_negative_coefficients = np.argsort(coef)[:top_features]\n",
    "    top_coefficients = np.hstack([top_negative_coefficients, top_positive_coefficients])\n",
    "    feature_names = np.array(feature_names)\n",
    "    print(\"Positive coefficients:\",feature_names[top_positive_coefficients])\n",
    "    print(\"Negative coefficients:\",feature_names[top_negative_coefficients])\n",
    "    \n",
    "plot_coefficients(clf, tfidf_vect.get_feature_names(), top_features=20)"
   ]
  },
  {
   "cell_type": "markdown",
   "metadata": {
    "colab_type": "text",
    "id": "PowEfns4LPpg"
   },
   "source": [
    "#### [5.2.3.2] Top 10 important features of negative class from<font color='red'> SET 2</font>"
   ]
  },
  {
   "cell_type": "code",
   "execution_count": 0,
   "metadata": {
    "colab": {},
    "colab_type": "code",
    "id": "G7jrma95LPpg"
   },
   "outputs": [],
   "source": [
    "# Please write all the code with proper documentation"
   ]
  },
  {
   "cell_type": "markdown",
   "metadata": {
    "colab_type": "text",
    "id": "sqYadGOgLPpi"
   },
   "source": [
    "## [5.3] Logistic Regression on AVG W2V,<font color='red'> SET 3</font>"
   ]
  },
  {
   "cell_type": "markdown",
   "metadata": {
    "colab_type": "text",
    "id": "kByBCEA1LPpj"
   },
   "source": [
    "### [5.3.1] Applying Logistic Regression with L1 regularization on AVG W2V<font color='red'> SET 3</font>"
   ]
  },
  {
   "cell_type": "code",
   "execution_count": 133,
   "metadata": {
    "colab": {},
    "colab_type": "code",
    "id": "yCQ_4iJkLPpj"
   },
   "outputs": [
    {
     "name": "stdout",
     "output_type": "stream",
     "text": [
      "GridSearchCV(cv='warn', error_score='raise-deprecating',\n",
      "             estimator=LogisticRegression(C=1.0, class_weight=None, dual=False,\n",
      "                                          fit_intercept=True,\n",
      "                                          intercept_scaling=1, l1_ratio=None,\n",
      "                                          max_iter=100, multi_class='warn',\n",
      "                                          n_jobs=None, penalty='l1',\n",
      "                                          random_state=None, solver='warn',\n",
      "                                          tol=0.0001, verbose=0,\n",
      "                                          warm_start=False),\n",
      "             iid='warn', n_jobs=None,\n",
      "             param_grid=[{'C': [1e-05, 0.0001, 0.001, 0.01, 1, 10, 100, 1000,\n",
      "                                10000]}],\n",
      "             pre_dispatch='2*n_jobs', refit='AUC', return_train_score=False,\n",
      "             scoring={'AUC': 'roc_auc', 'Accuracy': 'accuracy'}, verbose=0)\n",
      "0.9080226568236914\n",
      "LogisticRegression(C=100, class_weight=None, dual=False, fit_intercept=True,\n",
      "                   intercept_scaling=1, l1_ratio=None, max_iter=100,\n",
      "                   multi_class='warn', n_jobs=None, penalty='l1',\n",
      "                   random_state=None, solver='warn', tol=0.0001, verbose=0,\n",
      "                   warm_start=False)\n",
      "0.904455887944814\n"
     ]
    }
   ],
   "source": [
    "# Please write all the code with proper documentation\n",
    "#https://machinelearningmastery.com/how-to-tune-algorithm-parameters-with-scikit-learn/\n",
    "#Applying GridSearch to find the best hyperparameter C\n",
    "\n",
    "tuned_parameter = [{'C': [0.00001, 0.0001, 0.001, 0.01, 1, 10, 100, 1000, 10000]}]\n",
    "from sklearn.model_selection import GridSearchCV\n",
    "from sklearn.linear_model import LogisticRegression\n",
    "clf = LogisticRegression(penalty='l1',class_weight='balanced')\n",
    "scoring = {'AUC': 'roc_auc', 'Accuracy': 'accuracy'}\n",
    "grid = GridSearchCV(estimator=clf, param_grid = tuned_parameter ,scoring = scoring, refit = 'AUC')\n",
    "grid.fit(sent_vectors, y_train)\n",
    "print(grid)\n",
    "# summarize the results of the grid search\n",
    "print(grid.best_score_)\n",
    "print(grid.best_estimator_)\n",
    "print(grid.score(sent_vectors_test,y_test))\n",
    "results = grid.cv_results_\n",
    "#print(results)\n",
    "#print(grid.confusion_matrix)"
   ]
  },
  {
   "cell_type": "code",
   "execution_count": 136,
   "metadata": {},
   "outputs": [
    {
     "name": "stdout",
     "output_type": "stream",
     "text": [
      "Area under the ROC curve : %f 0.9044572329329176\n",
      "[[ 1396  1431]\n",
      " [  515 14213]]\n"
     ]
    },
    {
     "data": {
      "text/plain": [
       "<matplotlib.legend.Legend at 0x64453d30>"
      ]
     },
     "execution_count": 136,
     "metadata": {},
     "output_type": "execute_result"
    },
    {
     "data": {
      "image/png": "[encoded data removed]",
      "text/plain": [
       "<Figure size 432x288 with 2 Axes>"
      ]
     },
     "metadata": {
      "needs_background": "light"
     },
     "output_type": "display_data"
    },
    {
     "data": {
      "image/png": "[encoded data removed]",
      "text/plain": [
       "<Figure size 432x288 with 1 Axes>"
      ]
     },
     "metadata": {
      "needs_background": "light"
     },
     "output_type": "display_data"
    }
   ],
   "source": [
    "clf = LogisticRegression(C=100, penalty ='l1');\n",
    "clf.fit(sent_vectors, y_train)\n",
    "#w = clf.coef_\n",
    "#print(\"Sparsity:\",np.count_nonzero(w))\n",
    "\n",
    "#conf_matrix = confusion_matrix(y_test,pred)\n",
    "cclf=clf.predict(sent_vectors_test)\n",
    "pred_test = clf.predict_proba(sent_vectors_test)[:,1]\n",
    "#print('alpha value = ',1)\n",
    "#acc = accuracy_score(y_test,pred_test)*100\n",
    "#print(\"Accuracy\",acc)\n",
    "fpr, tpr, thresholds = roc_curve(y_test,pred_test)\n",
    "roc_auc_cv = auc(fpr, tpr)\n",
    "print('Area under the ROC curve : %f', + roc_auc_cv)\n",
    "#Plotting confusion matrix\n",
    "import seaborn as sns\n",
    "conf_mat = confusion_matrix(y_test, cclf)\n",
    "print(conf_mat)\n",
    "#conf_normalized = conf_mat.astype('int') / conf_mat.sum(axis=1)[:, np.newaxis]\n",
    "sns.heatmap(conf_mat, annot=True, fmt ='g')\n",
    "plt.ylabel('True label')\n",
    "plt.xlabel('Predicted label')\n",
    "\n",
    "#Plot ROC Curve\n",
    "plt.figure(0).clf()\n",
    "fpr, tpr, thresholds = roc_curve(y_test,pred_test)\n",
    "roc_auc_test = auc(fpr, tpr)\n",
    "plt.plot(fpr,tpr,label=\"Test Data, auc=\"+str(roc_auc_test))\n",
    "fpr, tpr, thresh = roc_curve(y_test, pred_test)\n",
    "roc_auc_cv = auc(fpr, tpr)\n",
    "plt.plot(fpr,tpr,label=\"Train Data, auc=\"+str(roc_auc_cv))\n",
    "plt.title('ROC curve for Train and Test Dataset - Tfidf')\n",
    "plt.xlabel('True Positive Rate')\n",
    "plt.ylabel('False Positive Rate')\n",
    "plt.legend(loc=0)"
   ]
  },
  {
   "cell_type": "markdown",
   "metadata": {
    "colab_type": "text",
    "id": "O_8Gu2SfLPpn"
   },
   "source": [
    "### [5.3.2] Applying Logistic Regression with L2 regularization on AVG W2V,<font color='red'> SET 3</font>"
   ]
  },
  {
   "cell_type": "code",
   "execution_count": 137,
   "metadata": {
    "colab": {},
    "colab_type": "code",
    "id": "Zy3s4jk1LPpn"
   },
   "outputs": [
    {
     "name": "stdout",
     "output_type": "stream",
     "text": [
      "Area under the ROC curve : %f 0.9044485385455336\n",
      "[[ 1396  1431]\n",
      " [  515 14213]]\n"
     ]
    },
    {
     "data": {
      "text/plain": [
       "<matplotlib.legend.Legend at 0x645a3f28>"
      ]
     },
     "execution_count": 137,
     "metadata": {},
     "output_type": "execute_result"
    },
    {
     "data": {
      "image/png": "[encoded data removed]",
      "text/plain": [
       "<Figure size 432x288 with 2 Axes>"
      ]
     },
     "metadata": {
      "needs_background": "light"
     },
     "output_type": "display_data"
    },
    {
     "data": {
      "image/png": "[encoded data removed]",
      "text/plain": [
       "<Figure size 432x288 with 1 Axes>"
      ]
     },
     "metadata": {
      "needs_background": "light"
     },
     "output_type": "display_data"
    }
   ],
   "source": [
    "# Please write all the code with proper documentation\n",
    "clf = LogisticRegression(C=100, penalty ='l2');\n",
    "clf.fit(sent_vectors, y_train)\n",
    "#w = clf.coef_\n",
    "#print(\"Sparsity:\",np.count_nonzero(w))\n",
    "\n",
    "#conf_matrix = confusion_matrix(y_test,pred)\n",
    "cclf=clf.predict(sent_vectors_test)\n",
    "pred_test = clf.predict_proba(sent_vectors_test)[:,1]\n",
    "#print('alpha value = ',1)\n",
    "#acc = accuracy_score(y_test,pred_test)*100\n",
    "#print(\"Accuracy\",acc)\n",
    "fpr, tpr, thresholds = roc_curve(y_test,pred_test)\n",
    "roc_auc_cv = auc(fpr, tpr)\n",
    "print('Area under the ROC curve : %f', + roc_auc_cv)\n",
    "#Plotting confusion matrix\n",
    "import seaborn as sns\n",
    "conf_mat = confusion_matrix(y_test, cclf)\n",
    "print(conf_mat)\n",
    "#conf_normalized = conf_mat.astype('int') / conf_mat.sum(axis=1)[:, np.newaxis]\n",
    "sns.heatmap(conf_mat, annot=True, fmt ='g')\n",
    "plt.ylabel('True label')\n",
    "plt.xlabel('Predicted label')\n",
    "\n",
    "#Plot ROC Curve\n",
    "plt.figure(0).clf()\n",
    "fpr, tpr, thresholds = roc_curve(y_test,pred_test)\n",
    "roc_auc_test = auc(fpr, tpr)\n",
    "plt.plot(fpr,tpr,label=\"Test Data, auc=\"+str(roc_auc_test))\n",
    "fpr, tpr, thresh = roc_curve(y_test, pred_test)\n",
    "roc_auc_cv = auc(fpr, tpr)\n",
    "plt.plot(fpr,tpr,label=\"Train Data, auc=\"+str(roc_auc_cv))\n",
    "plt.title('ROC curve for Train and Test Dataset - Tfidf')\n",
    "plt.xlabel('True Positive Rate')\n",
    "plt.ylabel('False Positive Rate')\n",
    "plt.legend(loc=0)"
   ]
  },
  {
   "cell_type": "code",
   "execution_count": 142,
   "metadata": {},
   "outputs": [
    {
     "data": {
      "image/png": "[encoded data removed]",
      "text/plain": [
       "<Figure size 432x288 with 1 Axes>"
      ]
     },
     "metadata": {
      "needs_background": "light"
     },
     "output_type": "display_data"
    }
   ],
   "source": [
    "C = [0.00001, 0.0001, 0.001, 0.01, 1, 10, 100, 1000, 10000]\n",
    "train_results = []\n",
    "test_results = []\n",
    "for i in C:\n",
    "    clf = LogisticRegression(C=i)\n",
    "    clf.fit(sent_vectors, y_train)\n",
    "    train_pred = clf.predict(sent_vectors)\n",
    "    false_positive_rate, true_positive_rate, thresholds = roc_curve(y_train, train_pred)\n",
    "    roc_auc = auc(false_positive_rate, true_positive_rate)\n",
    "    train_results.append(roc_auc)\n",
    "    y_pred = clf.predict(sent_vectors_test)\n",
    "    false_positive_rate, true_positive_rate, thresholds = roc_curve(y_test, y_pred)\n",
    "    roc_auc = auc(false_positive_rate, true_positive_rate)\n",
    "    test_results.append(roc_auc)\n",
    "from matplotlib.legend_handler import HandlerLine2D\n",
    "ax = plt.gca()\n",
    "ax.set_xscale('log')\n",
    "line1, = ax.plot(C, train_results, 'b', label=\"Train AUC\")\n",
    "line2, = ax.plot(C, test_results, 'r', label=\"Test AUC\")\n",
    "plt.legend(handler_map={line1: HandlerLine2D(numpoints=2)})\n",
    "plt.title(\"Performance of Avg W2V over hyperparameter C\")\n",
    "plt.ylabel('AUC score')\n",
    "plt.xlabel('Hyperparameter C')\n",
    "plt.show()"
   ]
  },
  {
   "cell_type": "markdown",
   "metadata": {
    "colab_type": "text",
    "id": "pdXTwVIPLPpp"
   },
   "source": [
    "## [5.4] Logistic Regression on TFIDF W2V,<font color='red'> SET 4</font>"
   ]
  },
  {
   "cell_type": "markdown",
   "metadata": {
    "colab_type": "text",
    "id": "WP9NjwNSLPpp"
   },
   "source": [
    "### [5.4.1] Applying Logistic Regression with L1 regularization on TFIDF W2V,<font color='red'> SET 4</font>"
   ]
  },
  {
   "cell_type": "code",
   "execution_count": 143,
   "metadata": {
    "colab": {},
    "colab_type": "code",
    "id": "207gYymwLPpq"
   },
   "outputs": [
    {
     "name": "stdout",
     "output_type": "stream",
     "text": [
      "GridSearchCV(cv='warn', error_score='raise-deprecating',\n",
      "             estimator=LogisticRegression(C=1.0, class_weight=None, dual=False,\n",
      "                                          fit_intercept=True,\n",
      "                                          intercept_scaling=1, l1_ratio=None,\n",
      "                                          max_iter=100, multi_class='warn',\n",
      "                                          n_jobs=None, penalty='l1',\n",
      "                                          random_state=None, solver='warn',\n",
      "                                          tol=0.0001, verbose=0,\n",
      "                                          warm_start=False),\n",
      "             iid='warn', n_jobs=None,\n",
      "             param_grid=[{'C': [1e-05, 0.0001, 0.001, 0.01, 1, 10, 100, 1000,\n",
      "                                10000]}],\n",
      "             pre_dispatch='2*n_jobs', refit='AUC', return_train_score=False,\n",
      "             scoring={'AUC': 'roc_auc', 'Accuracy': 'accuracy'}, verbose=0)\n",
      "0.8841530041400345\n",
      "LogisticRegression(C=1, class_weight=None, dual=False, fit_intercept=True,\n",
      "                   intercept_scaling=1, l1_ratio=None, max_iter=100,\n",
      "                   multi_class='warn', n_jobs=None, penalty='l1',\n",
      "                   random_state=None, solver='warn', tol=0.0001, verbose=0,\n",
      "                   warm_start=False)\n",
      "0.8799224883355906\n"
     ]
    }
   ],
   "source": [
    "#https://machinelearningmastery.com/how-to-tune-algorithm-parameters-with-scikit-learn/\n",
    "#Applying GridSearch to find the best hyperparameter C\n",
    "\n",
    "tuned_parameter = [{'C': [0.00001, 0.0001, 0.001, 0.01, 1, 10, 100, 1000, 10000]}]\n",
    "from sklearn.model_selection import GridSearchCV\n",
    "from sklearn.linear_model import LogisticRegression\n",
    "clf = LogisticRegression(penalty='l1')\n",
    "scoring = {'AUC': 'roc_auc', 'Accuracy': 'accuracy'}\n",
    "grid = GridSearchCV(estimator=clf, param_grid = tuned_parameter ,scoring = scoring, refit = 'AUC')\n",
    "grid.fit(tfidf_sent_vectors, y_train)\n",
    "print(grid)\n",
    "# summarize the results of the grid search\n",
    "print(grid.best_score_)\n",
    "print(grid.best_estimator_)\n",
    "print(grid.score(tfidf_sent_vectors_test,y_test))\n",
    "results = grid.cv_results_\n",
    "#print(results)\n",
    "#print(grid.confusion_matrix)"
   ]
  },
  {
   "cell_type": "code",
   "execution_count": 144,
   "metadata": {},
   "outputs": [
    {
     "name": "stdout",
     "output_type": "stream",
     "text": [
      "Area under the ROC curve : %f 0.8799236652001813\n",
      "[[ 1121  1706]\n",
      " [  458 14270]]\n"
     ]
    },
    {
     "data": {
      "text/plain": [
       "<matplotlib.legend.Legend at 0x6926d9b0>"
      ]
     },
     "execution_count": 144,
     "metadata": {},
     "output_type": "execute_result"
    },
    {
     "data": {
      "image/png": "[encoded data removed]",
      "text/plain": [
       "<Figure size 432x288 with 2 Axes>"
      ]
     },
     "metadata": {
      "needs_background": "light"
     },
     "output_type": "display_data"
    },
    {
     "data": {
      "image/png": "[encoded data removed]",
      "text/plain": [
       "<Figure size 432x288 with 1 Axes>"
      ]
     },
     "metadata": {
      "needs_background": "light"
     },
     "output_type": "display_data"
    }
   ],
   "source": [
    "clf = LogisticRegression(C=1, penalty ='l1');\n",
    "clf.fit(tfidf_sent_vectors, y_train)\n",
    "#w = clf.coef_\n",
    "#print(\"Sparsity:\",np.count_nonzero(w))\n",
    "\n",
    "#conf_matrix = confusion_matrix(y_test,pred)\n",
    "cclf=clf.predict(tfidf_sent_vectors_test)\n",
    "pred_test = clf.predict_proba(tfidf_sent_vectors_test)[:,1]\n",
    "#print('alpha value = ',1)\n",
    "#acc = accuracy_score(y_test,pred_test)*100\n",
    "#print(\"Accuracy\",acc)\n",
    "fpr, tpr, thresholds = roc_curve(y_test,pred_test)\n",
    "roc_auc_cv = auc(fpr, tpr)\n",
    "print('Area under the ROC curve : %f', + roc_auc_cv)\n",
    "#Plotting confusion matrix\n",
    "import seaborn as sns\n",
    "conf_mat = confusion_matrix(y_test, cclf)\n",
    "print(conf_mat)\n",
    "#conf_normalized = conf_mat.astype('int') / conf_mat.sum(axis=1)[:, np.newaxis]\n",
    "sns.heatmap(conf_mat, annot=True, fmt ='g')\n",
    "plt.ylabel('True label')\n",
    "plt.xlabel('Predicted label')\n",
    "\n",
    "#Plot ROC Curve\n",
    "plt.figure(0).clf()\n",
    "fpr, tpr, thresholds = roc_curve(y_test,pred_test)\n",
    "roc_auc_test = auc(fpr, tpr)\n",
    "plt.plot(fpr,tpr,label=\"Test Data, auc=\"+str(roc_auc_test))\n",
    "fpr, tpr, thresh = roc_curve(y_test, pred_test)\n",
    "roc_auc_cv = auc(fpr, tpr)\n",
    "plt.plot(fpr,tpr,label=\"Train Data, auc=\"+str(roc_auc_cv))\n",
    "plt.title('ROC curve for Train and Test Dataset - Tfidf')\n",
    "plt.xlabel('True Positive Rate')\n",
    "plt.ylabel('False Positive Rate')\n",
    "plt.legend(loc=0)"
   ]
  },
  {
   "cell_type": "markdown",
   "metadata": {
    "colab_type": "text",
    "id": "ynUK2tYDLPps"
   },
   "source": [
    "### [5.4.2] Applying Logistic Regression with L2 regularization on TFIDF W2V,<font color='red'> SET 4</font>"
   ]
  },
  {
   "cell_type": "code",
   "execution_count": 145,
   "metadata": {
    "colab": {},
    "colab_type": "code",
    "id": "hVYuiXl2LPpt"
   },
   "outputs": [
    {
     "name": "stdout",
     "output_type": "stream",
     "text": [
      "Area under the ROC curve : %f 0.8799151389363105\n",
      "[[ 1120  1707]\n",
      " [  458 14270]]\n"
     ]
    },
    {
     "data": {
      "text/plain": [
       "<matplotlib.legend.Legend at 0x692d5b70>"
      ]
     },
     "execution_count": 145,
     "metadata": {},
     "output_type": "execute_result"
    },
    {
     "data": {
      "image/png": "[encoded data removed]",
      "text/plain": [
       "<Figure size 432x288 with 2 Axes>"
      ]
     },
     "metadata": {
      "needs_background": "light"
     },
     "output_type": "display_data"
    },
    {
     "data": {
      "image/png": "[encoded data removed]",
      "text/plain": [
       "<Figure size 432x288 with 1 Axes>"
      ]
     },
     "metadata": {
      "needs_background": "light"
     },
     "output_type": "display_data"
    }
   ],
   "source": [
    "# Please write all the code with proper documentation\n",
    "clf = LogisticRegression(C=1, penalty ='l2');\n",
    "clf.fit(tfidf_sent_vectors, y_train)\n",
    "#w = clf.coef_\n",
    "#print(\"Sparsity:\",np.count_nonzero(w))\n",
    "\n",
    "#conf_matrix = confusion_matrix(y_test,pred)\n",
    "cclf=clf.predict(tfidf_sent_vectors_test)\n",
    "pred_test = clf.predict_proba(tfidf_sent_vectors_test)[:,1]\n",
    "#print('alpha value = ',1)\n",
    "#acc = accuracy_score(y_test,pred_test)*100\n",
    "#print(\"Accuracy\",acc)\n",
    "fpr, tpr, thresholds = roc_curve(y_test,pred_test)\n",
    "roc_auc_cv = auc(fpr, tpr)\n",
    "print('Area under the ROC curve : %f', + roc_auc_cv)\n",
    "#Plotting confusion matrix\n",
    "import seaborn as sns\n",
    "conf_mat = confusion_matrix(y_test, cclf)\n",
    "print(conf_mat)\n",
    "#conf_normalized = conf_mat.astype('int') / conf_mat.sum(axis=1)[:, np.newaxis]\n",
    "sns.heatmap(conf_mat, annot=True, fmt ='g')\n",
    "plt.ylabel('True label')\n",
    "plt.xlabel('Predicted label')\n",
    "\n",
    "#Plot ROC Curve\n",
    "plt.figure(0).clf()\n",
    "fpr, tpr, thresholds = roc_curve(y_test,pred_test)\n",
    "roc_auc_test = auc(fpr, tpr)\n",
    "plt.plot(fpr,tpr,label=\"Test Data, auc=\"+str(roc_auc_test))\n",
    "fpr, tpr, thresh = roc_curve(y_test, pred_test)\n",
    "roc_auc_cv = auc(fpr, tpr)\n",
    "plt.plot(fpr,tpr,label=\"Train Data, auc=\"+str(roc_auc_cv))\n",
    "plt.title('ROC curve for Train and Test Dataset - Tfidf')\n",
    "plt.xlabel('True Positive Rate')\n",
    "plt.ylabel('False Positive Rate')\n",
    "plt.legend(loc=0)\n"
   ]
  },
  {
   "cell_type": "code",
   "execution_count": 149,
   "metadata": {},
   "outputs": [
    {
     "data": {
      "image/png": "[encoded data removed]",
      "text/plain": [
       "<Figure size 432x288 with 1 Axes>"
      ]
     },
     "metadata": {
      "needs_background": "light"
     },
     "output_type": "display_data"
    }
   ],
   "source": [
    "#Performance of Tfidf Avg w2v over hyperparameter C\n",
    "C = [0.00001, 0.0001, 0.001, 0.01, 1, 10, 100, 1000]\n",
    "train_results = []\n",
    "test_results = []\n",
    "for i in C:\n",
    "    clf = LogisticRegression(C=i)\n",
    "    clf.fit(tfidf_sent_vectors, y_train)\n",
    "    train_pred = clf.predict(tfidf_sent_vectors)\n",
    "    false_positive_rate, true_positive_rate, thresholds = roc_curve(y_train, train_pred)\n",
    "    roc_auc = auc(false_positive_rate, true_positive_rate)\n",
    "    train_results.append(roc_auc)\n",
    "    y_pred = clf.predict(tfidf_sent_vectors_test)\n",
    "    false_positive_rate, true_positive_rate, thresholds = roc_curve(y_test, y_pred)\n",
    "    roc_auc = auc(false_positive_rate, true_positive_rate)\n",
    "    test_results.append(roc_auc)\n",
    "from matplotlib.legend_handler import HandlerLine2D\n",
    "ax = plt.gca()\n",
    "ax.set_xscale('log')\n",
    "line1, = ax.plot(C, train_results, 'b', label=\"Train AUC\")\n",
    "line2, = ax.plot(C, test_results, 'r', label=\"Test AUC\")\n",
    "plt.legend(handler_map={line1: HandlerLine2D(numpoints=2)})\n",
    "plt.title(\"Performance of Tfidf Avg W2V over hyperparameter C\")\n",
    "plt.ylabel('AUC score')\n",
    "plt.xlabel('C')\n",
    "plt.show()\n"
   ]
  },
  {
   "cell_type": "markdown",
   "metadata": {
    "colab_type": "text",
    "id": "nOvsBNf2LPpv"
   },
   "source": [
    "# [6] Conclusions"
   ]
  },
  {
   "cell_type": "code",
   "execution_count": 151,
   "metadata": {
    "colab": {},
    "colab_type": "code",
    "id": "T7VxD0q2LPpw"
   },
   "outputs": [
    {
     "name": "stdout",
     "output_type": "stream",
     "text": [
      "+------------------------+---------+----------+\n",
      "|         model          | C value | Test AUC |\n",
      "+------------------------+---------+----------+\n",
      "|      LR using BoW      |    1    |  0.934   |\n",
      "|     LR using TFIDF     |    1    |  0.964   |\n",
      "|    LR using AVG W2V    |   100   |  0.904   |\n",
      "| LR using TFIDF AVG W2V |    1    |  0.8799  |\n",
      "+------------------------+---------+----------+\n"
     ]
    }
   ],
   "source": [
    "# Please compare all your models using Prettytable library\n",
    "from prettytable import PrettyTable\n",
    "table = PrettyTable([\"model\",\"C value\",\"Test AUC\"])\n",
    "table.add_row([\"LR using BoW\", \"1\",0.934])\n",
    "table.add_row([\"LR using TFIDF\",\"1\",0.964])\n",
    "table.add_row([\"LR using AVG W2V\",\"100\",0.904])\n",
    "table.add_row([\"LR using TFIDF AVG W2V\",\"1\",0.8799])\n",
    "print(table)"
   ]
  },
  {
   "cell_type": "markdown",
   "metadata": {},
   "source": [
    "1. Logistic Regression is applied on Amazon food review dataset with four different vectorization techniques.\n",
    "2. The hyperparameter C is tuned using GridSearchCV and the test results are predicted. \n",
    "3. Various C values are used to predict the sparsity in BoW with L1 regularizer. It is found that the sparsity(number of non zero vectors)decreases as C value decreases. L1 and L2 regularisations are used. \n",
    "4. Perturbation technique is applied to check for multicollinearity. \n",
    "5. From the above table, AUC score for BoW and TFIDF are better than the rest."
   ]
  }
 ],
 "metadata": {
  "colab": {
   "name": "05 Amazon Fine Food Reviews Analysis_Logistic Regression.ipynb",
   "provenance": [],
   "version": "0.3.2"
  },
  "kernelspec": {
   "display_name": "Python 3",
   "language": "python",
   "name": "python3"
  },
  "language_info": {
   "codemirror_mode": {
    "name": "ipython",
    "version": 3
   },
   "file_extension": ".py",
   "mimetype": "text/x-python",
   "name": "python",
   "nbconvert_exporter": "python",
   "pygments_lexer": "ipython3",
   "version": "3.6.7"
  }
 },
 "nbformat": 4,
 "nbformat_minor": 1
}
